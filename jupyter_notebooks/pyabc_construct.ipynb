{
 "cells": [
  {
   "cell_type": "code",
   "execution_count": 1,
   "metadata": {},
   "outputs": [],
   "source": [
    "import jn_setup\n",
    "from tools.paths import *\n",
    "from simulation_procedure import make_model\n",
    "import pandas as pd, pyabc, hydroeval as he, numpy as np, uuid"
   ]
  },
  {
   "cell_type": "code",
   "execution_count": 2,
   "metadata": {},
   "outputs": [
    {
     "name": "stdout",
     "output_type": "stream",
     "text": [
      "C:\\Users\\jstelman\\Git\\stelman_urban_pesticides\\master_debug\\NPlesantCreek.inp\n"
     ]
    }
   ],
   "source": [
    "# mode = \"test\"\n",
    "mode = \"debug\"\n",
    "model = make_model(mode = mode, swmm_cleanup = 'full', vvwm_cleanup = 'some')"
   ]
  },
  {
   "cell_type": "code",
   "execution_count": 3,
   "metadata": {},
   "outputs": [],
   "source": [
    "\"\"\"\n",
    "Priors. Get the values from that csv. Just for SWMM at first.\n",
    "\"\"\"\n",
    "swmm_ranges = pd.read_csv(os.path.join(master_path, \"swmm_param_priors.csv\"), index_col=0,\n",
    "                           usecols = [\"Parameter\",\"Min\", \"Range\"])\n",
    "\n",
    "'''\n",
    "Link up with the vvwm priors and make one big list with 36 params\n",
    "'''\n",
    "vvwm_ranges = pd.read_csv(os.path.join(master_path, \"vvwm_param_priors.csv\"), index_col=0,\n",
    "                           usecols = [\"Parameter\",\"Min\", \"Range\"])\n",
    "\n",
    "param_ranges = pd.concat([swmm_ranges, vvwm_ranges], axis = 0)\n",
    "\n",
    "# # testing how many is too many\n",
    "# if mode == \"debug\":\n",
    "#     # added new one to list\n",
    "#     param_ranges = param_ranges.loc[['NImperv','NPerv','WCoeff2','BCoeff2','MaxRate','MinRate','PctZero',\n",
    "#                                      'SImperv', 'SPerv','Decay','DryTime','Por','FC','WP','Ksat','Kdecay',\n",
    "#                                      'kd','porosity','bulk_density','chl','froc1','doc1','froc2','doc2','bnmas','sused',\n",
    "#                                      'sol','benthic_depth','hydro','photo',\n",
    "#                                      'aer_aq','aer_aq_temp','anae_aq','anae_aq_temp'\n",
    "#                                      #'rflat','Rough'\n",
    "#                                     ]]\n",
    "\n",
    "priors = param_ranges.to_dict(\"index\")\n",
    "\n",
    "# borrowed from Jeff: <https://github.com/JeffreyMinucci/bee_neonic_abc/blob/master/pyabc_run.ipynb>\n",
    "prior = pyabc.Distribution(**{key: pyabc.RV(\"uniform\", loc = v['Min'], scale = v['Range'])\n",
    "                        for key, v in priors.items()})"
   ]
  },
  {
   "cell_type": "code",
   "execution_count": 4,
   "metadata": {},
   "outputs": [
    {
     "data": {
      "text/plain": [
       "{'NImperv': {'Min': 0.01, 'Range': 0.015},\n",
       " 'NPerv': {'Min': 0.05, 'Range': 0.45},\n",
       " 'WCoeff2': {'Min': 0.066, 'Range': 0.148},\n",
       " 'BCoeff2': {'Min': 0.5, 'Range': 1.5},\n",
       " 'MaxRate': {'Min': 8.46, 'Range': 118.54},\n",
       " 'MinRate': {'Min': 0.254, 'Range': 10.666},\n",
       " 'PctZero': {'Min': 0.01, 'Range': 99.99},\n",
       " 'SImperv': {'Min': 1.27, 'Range': 1.27},\n",
       " 'SPerv': {'Min': 2.54, 'Range': 2.54},\n",
       " 'Decay': {'Min': 2.0, 'Range': 5.0},\n",
       " 'DryTime': {'Min': 2.0, 'Range': 12.0},\n",
       " 'Por': {'Min': 0.4, 'Range': 0.1},\n",
       " 'FC': {'Min': 0.06, 'Range': 0.32},\n",
       " 'WP': {'Min': 0.024, 'Range': 0.241},\n",
       " 'Ksat': {'Min': 0.25, 'Range': 12.45},\n",
       " 'Kdecay': {'Min': 0.002739726, 'Range': 0.197260274},\n",
       " 'kd': {'Min': 882.0, 'Range': 5028.0},\n",
       " 'porosity': {'Min': 0.1, 'Range': 0.7},\n",
       " 'bulk_density': {'Min': 0.86, 'Range': 0.9},\n",
       " 'chl': {'Min': 0.001, 'Range': 1.499},\n",
       " 'froc1': {'Min': 0.001, 'Range': 0.139},\n",
       " 'doc1': {'Min': 0.1, 'Range': 14.9},\n",
       " 'froc2': {'Min': 0.001, 'Range': 0.029},\n",
       " 'doc2': {'Min': 0.01, 'Range': 59.99},\n",
       " 'bnmas': {'Min': 0.001, 'Range': 4.999},\n",
       " 'sused': {'Min': 0.005, 'Range': 79.995},\n",
       " 'sol': {'Min': 0.00024063, 'Range': 0.74406337},\n",
       " 'benthic_depth': {'Min': 0.01, 'Range': 0.99},\n",
       " 'hydro': {'Min': 0.1, 'Range': 364.9},\n",
       " 'photo': {'Min': 96.9, 'Range': 319.1},\n",
       " 'aer_aq': {'Min': 5.0, 'Range': 360.0},\n",
       " 'aer_aq_temp': {'Min': 20.0, 'Range': 5.0},\n",
       " 'anae_aq': {'Min': 5.0, 'Range': 725.0},\n",
       " 'anae_aq_temp': {'Min': 20.0, 'Range': 5.0}}"
      ]
     },
     "execution_count": 4,
     "metadata": {},
     "output_type": "execute_result"
    }
   ],
   "source": [
    "priors"
   ]
  },
  {
   "cell_type": "code",
   "execution_count": 4,
   "metadata": {},
   "outputs": [
    {
     "data": {
      "text/plain": [
       "<Distribution 'BCoeff2', 'Decay', 'DryTime', 'FC', 'Kdecay', 'Ksat', 'MaxRate', 'MinRate', 'NImperv', 'NPerv', 'PctZero', 'Por', 'SImperv', 'SPerv', 'WCoeff2', 'WP', 'aer_aq', 'aer_aq_temp', 'anae_aq', 'anae_aq_temp', 'benthic_depth', 'bnmas', 'bulk_density', 'chl', 'doc1', 'doc2', 'froc1', 'froc2', 'hydro', 'kd', 'photo', 'porosity', 'sol', 'sused'>"
      ]
     },
     "execution_count": 4,
     "metadata": {},
     "output_type": "execute_result"
    }
   ],
   "source": [
    "prior"
   ]
  },
  {
   "cell_type": "markdown",
   "metadata": {},
   "source": [
    "# Make the .new object\n",
    "### 1. Import observed data"
   ]
  },
  {
   "cell_type": "code",
   "execution_count": 5,
   "metadata": {},
   "outputs": [
    {
     "data": {
      "text/plain": [
       "{'2009-02-13_28': 0.0485, '2009-04-07_28': 0.0192, '2009-04-13_28': 0.00858}"
      ]
     },
     "execution_count": 5,
     "metadata": {},
     "output_type": "execute_result"
    }
   ],
   "source": [
    "# import it again to make inspect it\n",
    "# specifically for TEST mode!\n",
    "if mode == 'debug':\n",
    "    with open(os.path.join(main_path, 'master_debug','debug_obs_data.txt'),'r') as read_file:\n",
    "        obs_dict = eval(read_file.read())\n",
    "elif mode == 'test':\n",
    "    with open(os.path.join(main_path, 'master_test','test_obs_data.txt'),'r') as read_file:\n",
    "        obs_dict = eval(read_file.read())\n",
    "elif mode == 'run':\n",
    "    with open(os.path.join(main_path, 'master','obs_data.txt'),'r') as read_file:\n",
    "        obs_dict = eval(read_file.read())\n",
    "obs_dict"
   ]
  },
  {
   "cell_type": "markdown",
   "metadata": {},
   "source": [
    "### 2. Initialize dask client for dask distributed sampler"
   ]
  },
  {
   "cell_type": "code",
   "execution_count": 6,
   "metadata": {},
   "outputs": [],
   "source": [
    "# from dask.distributed import Client#, LocalCluster\n",
    "# cluster = LocalCluster()#n_workers=(90/2), threads_per_worker = 2)  # Set for 96 vCPU compute instance\n",
    "# client = Client(cluster)#,timeout=400)\n",
    "\n",
    "# make it simpler\n",
    "# if __name__ == \"__main__\":\n",
    "# client = Client()\n",
    "\n",
    "# sampler = pyabc.sampler.DaskDistributedSampler(dask_client = client)\n",
    "\n",
    "# See if this takes all those errors out\n",
    "sampler = pyabc.sampler.SingleCoreSampler()\n",
    "# make the process more transparent\n",
    "sampler.sample_factory.record_rejected = True\n",
    "sampler.show_progress = True"
   ]
  },
  {
   "cell_type": "markdown",
   "metadata": {},
   "source": [
    "### 3. Set up a sqlite db directory"
   ]
  },
  {
   "cell_type": "code",
   "execution_count": 7,
   "metadata": {},
   "outputs": [
    {
     "name": "stdout",
     "output_type": "stream",
     "text": [
      "f3e83b6a\n"
     ]
    }
   ],
   "source": [
    "# Initialize a new ABC inference run\n",
    "dbid = uuid.uuid4().hex[0:8]\n",
    "print(dbid)\n",
    "database_dir = os.path.join(temp_path, 'results_db')  \n",
    "if not os.path.exists(database_dir):\n",
    "    os.mkdir(database_dir)\n",
    "db_path = (\"sqlite:///\" +\n",
    "           os.path.join(database_dir, \"test_pyabc_\" + dbid + \".db\"))"
   ]
  },
  {
   "cell_type": "markdown",
   "metadata": {},
   "source": [
    "### 4. Defining a Distance function\n",
    "\n",
    "We need to refactor the NSE distance function using the pyabc.Distance class.\n",
    "We will need the hydroeval library and the pyabc.SimpleFunctionDistance to do this"
   ]
  },
  {
   "cell_type": "code",
   "execution_count": 8,
   "metadata": {},
   "outputs": [],
   "source": [
    "# make a file to hold onto these NSEs for our own record\n",
    "with open(os.path.join(temp_path, \"NSEs_\" + dbid + \".txt\"), \"w\") as nse_file:\n",
    "    nse_file.write(\"NSEs\\n\")"
   ]
  },
  {
   "cell_type": "code",
   "execution_count": 9,
   "metadata": {},
   "outputs": [],
   "source": [
    "def nse(x, x_0):\n",
    "    nse = he.evaluator(he.nse, \n",
    "                       simulation_s = np.array(list(x.values())),\n",
    "                       evaluation = np.array(list(x_0.values())))[0]\n",
    "    print(\"nse \", nse)\n",
    "    # make record\n",
    "    with open(os.path.join(temp_path, \"NSEs_\" + dbid + \".txt\"),\"a\") as nse_file:\n",
    "        nse_file.write(str(nse)+\"\\n\")\n",
    "    return nse\n",
    "    \n",
    "NSE = pyabc.SimpleFunctionDistance(fun=nse)\n",
    "\n",
    "# the best answer is 1\n",
    "# make one that measures distance from 1\n",
    "NSED = pyabc.SimpleFunctionDistance(fun = lambda x, x_0: (1 - nse(x, x_0)))"
   ]
  },
  {
   "cell_type": "markdown",
   "metadata": {},
   "source": [
    "### 5. Define ABCSMC object"
   ]
  },
  {
   "cell_type": "code",
   "execution_count": 10,
   "metadata": {},
   "outputs": [],
   "source": [
    "abc = pyabc.ABCSMC(model, prior, \n",
    "                   # might fix the dask problem too\n",
    "                   population_size = pyabc.ConstantPopulationSize(4), # just to shorten the run\n",
    "                   sampler = sampler,\n",
    "                   distance_function = NSED)"
   ]
  },
  {
   "cell_type": "code",
   "execution_count": 11,
   "metadata": {},
   "outputs": [
    {
     "data": {
      "text/plain": [
       "<pyabc.inference.smc.ABCSMC at 0x2441cf92580>"
      ]
     },
     "execution_count": 11,
     "metadata": {},
     "output_type": "execute_result"
    }
   ],
   "source": [
    "abc"
   ]
  },
  {
   "cell_type": "markdown",
   "metadata": {},
   "source": [
    "### 6. Initialize a new abc run"
   ]
  },
  {
   "cell_type": "code",
   "execution_count": 12,
   "metadata": {},
   "outputs": [
    {
     "data": {
      "text/plain": [
       "<pyabc.storage.history.History at 0x2441cf04e50>"
      ]
     },
     "execution_count": 12,
     "metadata": {},
     "output_type": "execute_result"
    }
   ],
   "source": [
    "abc.new(db_path, obs_dict)"
   ]
  },
  {
   "cell_type": "code",
   "execution_count": 13,
   "metadata": {
    "scrolled": false
   },
   "outputs": [
    {
     "name": "stdout",
     "output_type": "stream",
     "text": [
      "Folder  b0602853  created \n",
      "\n",
      "second path removal successful\n",
      "Folder  b0602853 outfall_31_28  created \n",
      "\n",
      "second path removal successful\n",
      "second path removal successful\n",
      "second path removal successful\n",
      "second path removal successful\n",
      "second path removal successful\n",
      " 25% |██████                  | 1/4 Folder  b64dc431  created \n",
      "\n",
      "second path removal successful\n",
      "Folder  b64dc431 outfall_31_28  created \n",
      "\n",
      "second path removal successful\n",
      "second path removal successful\n",
      "second path removal successful\n",
      "second path removal successful\n",
      "second path removal successful\n",
      " 50% |████████████            | 2/4 Folder  4d234a96  created \n",
      "\n",
      "second path removal successful\n",
      "Folder  4d234a96 outfall_31_28  created \n",
      "\n",
      "second path removal successful\n",
      "second path removal successful\n",
      "second path removal successful\n",
      "second path removal successful\n",
      "second path removal successful\n",
      " 75% |██████████████████      | 3/4 Folder  8b55a285  created \n",
      "\n",
      "second path removal successful\n",
      "Folder  8b55a285 outfall_31_28  created \n",
      "\n",
      "second path removal successful\n",
      "second path removal successful\n",
      "second path removal successful\n",
      "second path removal successful\n",
      "second path removal successful\n",
      "nse  -8.172530996339594e+20          \n",
      "nse  -3.0821481345934346e+23\n",
      "nse  -2.5061107275106382e+23\n",
      "nse  -5.03469524801947e+23\n",
      "Folder  b90fe85f  created \n",
      "\n",
      "second path removal successful\n",
      "Folder  b90fe85f outfall_31_28  created \n",
      "\n",
      "second path removal successful\n",
      "second path removal successful\n",
      "second path removal successful\n",
      "second path removal successful\n",
      "second path removal successful\n",
      "nse  -3.146392617856913e+23\n",
      "Folder  362187dd  created \n",
      "\n",
      "second path removal successful\n",
      "Folder  362187dd outfall_31_28  created \n",
      "\n",
      "second path removal successful\n",
      "second path removal successful\n",
      "second path removal successful\n",
      "second path removal successful\n",
      "second path removal successful\n",
      "nse  -3.6184286181847135e+22\n",
      " 25% |██████                  | 1/4 Folder  578d5790  created \n",
      "\n",
      "second path removal successful\n",
      "Folder  578d5790 outfall_31_28  created \n",
      "\n",
      "second path removal successful\n",
      "second path removal successful\n",
      "second path removal successful\n",
      "second path removal successful\n",
      "second path removal successful\n",
      "nse  -6.704331246810612e+23\n",
      "Folder  79fd8568  created \n",
      "\n",
      "second path removal successful\n",
      "Folder  79fd8568 outfall_31_28  created \n",
      "\n",
      "second path removal successful\n",
      "second path removal successful\n",
      "second path removal successful\n",
      "second path removal successful\n",
      "second path removal successful\n",
      "nse  -1.619125651905078e+23\n",
      " 50% |████████████            | 2/4 Folder  e6cb8f6f  created \n",
      "\n",
      "second path removal successful\n",
      "Folder  e6cb8f6f outfall_31_28  created \n",
      "\n",
      "second path removal successful\n",
      "second path removal successful\n",
      "second path removal successful\n",
      "second path removal successful\n",
      "second path removal successful\n",
      "nse  -9.722433146530003e+22\n",
      " 75% |██████████████████      | 3/4 Folder  cbfc1013  created \n",
      "\n",
      "second path removal successful\n",
      "Folder  cbfc1013 outfall_31_28  created \n",
      "\n",
      "second path removal successful\n",
      "second path removal successful\n",
      "second path removal successful\n",
      "second path removal successful\n",
      "second path removal successful\n",
      "nse  -5.51094528184246e+22\n",
      "Folder  681617d4  created            \n",
      "\n",
      "second path removal successful\n",
      "Folder  681617d4 outfall_31_28  created \n",
      "\n",
      "second path removal successful\n",
      "second path removal successful\n",
      "second path removal successful\n",
      "second path removal successful\n",
      "second path removal successful\n",
      "nse  -1.0875648205299489e+23\n",
      "Folder  ec94ceba  created \n",
      "\n",
      "second path removal successful\n",
      "Folder  ec94ceba outfall_31_28  created \n",
      "\n",
      "second path removal successful\n",
      "second path removal successful\n",
      "second path removal successful\n",
      "second path removal successful\n",
      "second path removal successful\n",
      "nse  -1.3670192855280438e+23\n",
      "Folder  6db7ea5d  created \n",
      "\n",
      "second path removal successful\n",
      "Folder  6db7ea5d outfall_31_28  created \n",
      "\n",
      "second path removal successful\n",
      "second path removal successful\n",
      "second path removal successful\n",
      "second path removal successful\n",
      "second path removal successful\n",
      "nse  -8.611144870854427e+22\n",
      "Folder  ea49eeb0  created \n",
      "\n",
      "second path removal successful\n",
      "Folder  ea49eeb0 outfall_31_28  created \n",
      "\n",
      "second path removal successful\n",
      "second path removal successful\n",
      "second path removal successful\n",
      "second path removal successful\n",
      "second path removal successful\n",
      "nse  -1.6487007089437744e+23\n",
      "Folder  85a932fe  created \n",
      "\n",
      "second path removal successful\n",
      "Folder  85a932fe outfall_31_28  created \n",
      "\n",
      "second path removal successful\n",
      "second path removal successful\n",
      "second path removal successful\n",
      "second path removal successful\n",
      "second path removal successful\n",
      "nse  -2.0310267946293736e+23\n",
      "Folder  bf721f6a  created \n",
      "\n",
      "second path removal successful\n",
      "Folder  bf721f6a outfall_31_28  created \n",
      "\n",
      "second path removal successful\n",
      "second path removal successful\n",
      "second path removal successful\n",
      "second path removal successful\n",
      "second path removal successful\n",
      "nse  -7.835595598454114e+22\n",
      "Folder  f02db404  created \n",
      "\n",
      "second path removal successful\n",
      "Folder  f02db404 outfall_31_28  created \n",
      "\n",
      "second path removal successful\n",
      "second path removal successful\n",
      "second path removal successful\n",
      "second path removal successful\n",
      "second path removal successful\n",
      "nse  -9.391946487336744e+22\n",
      "Folder  d7fb9fea  created \n",
      "\n",
      "second path removal successful\n",
      "Folder  d7fb9fea outfall_31_28  created \n",
      "\n",
      "second path removal successful\n",
      "second path removal successful\n",
      "second path removal successful\n",
      "second path removal successful\n",
      "second path removal successful\n",
      "nse  -1.4159689763982348e+23\n",
      "Folder  6bd7f56a  created \n",
      "\n",
      "second path removal successful\n",
      "Folder  6bd7f56a outfall_31_28  created \n",
      "\n",
      "second path removal successful\n",
      "second path removal successful\n",
      "second path removal successful\n",
      "second path removal successful\n",
      "second path removal successful\n",
      "nse  -4.091478623185671e+22\n",
      " 25% |██████                  | 1/4 Folder  14c3e9c8  created \n",
      "\n",
      "second path removal successful\n",
      "Folder  14c3e9c8 outfall_31_28  created \n",
      "\n",
      "second path removal successful\n",
      "second path removal successful\n",
      "second path removal successful\n",
      "second path removal successful\n",
      "second path removal successful\n",
      "nse  -3.472754222499829e+22\n",
      " 50% |████████████            | 2/4 Folder  447e193d  created \n",
      "\n",
      "second path removal successful\n",
      "Folder  447e193d outfall_31_28  created \n",
      "\n",
      "second path removal successful\n",
      "second path removal successful\n",
      "second path removal successful\n",
      "second path removal successful\n",
      "second path removal successful\n",
      "nse  -4.895051733164506e+22\n",
      " 75% |██████████████████      | 3/4 Folder  ffe41ae4  created \n",
      "\n",
      "second path removal successful\n",
      "Folder  ffe41ae4 outfall_31_28  created \n",
      "\n",
      "second path removal successful\n",
      "second path removal successful\n",
      "second path removal successful\n",
      "second path removal successful\n",
      "second path removal successful\n",
      "nse  -7.268244822095e+22\n",
      "                                     \r"
     ]
    }
   ],
   "source": [
    "# Back to 1 gen\n",
    "history = abc.run(max_nr_populations=2, minimum_epsilon=0.2)"
   ]
  }
 ],
 "metadata": {
  "kernelspec": {
   "display_name": "Python 3",
   "language": "python",
   "name": "python3"
  },
  "language_info": {
   "codemirror_mode": {
    "name": "ipython",
    "version": 3
   },
   "file_extension": ".py",
   "mimetype": "text/x-python",
   "name": "python",
   "nbconvert_exporter": "python",
   "pygments_lexer": "ipython3",
   "version": "3.8.3"
  }
 },
 "nbformat": 4,
 "nbformat_minor": 4
}
