{
 "cells": [
  {
   "cell_type": "code",
   "execution_count": 8,
   "metadata": {},
   "outputs": [],
   "source": [
    "import jn_setup\n",
    "from simulation_procedure import model\n",
    "from tools.paths import *\n",
    "import pandas as pd, pyabc, hydroeval as he, numpy as np, uuid"
   ]
  },
  {
   "cell_type": "code",
   "execution_count": 9,
   "metadata": {},
   "outputs": [],
   "source": [
    "\"\"\"\n",
    "Priors. Get the values from that csv. Just for SWMM at first.\n",
    "\"\"\"\n",
    "swmm_ranges = pd.read_csv(os.path.join(master_path, \"lhs_param_ranges.csv\"), index_col=0,\n",
    "                           usecols = [\"Parameter\",\"Min\", \"Range\"])\n",
    "\n",
    "'''\n",
    "Link up with the vvwm priors and make one big list with 36 params\n",
    "'''\n",
    "vvwm_ranges = pd.read_csv(os.path.join(master_path, \"lhs_param_ranges_vvwm.csv\"), index_col=0,\n",
    "                           usecols = [\"Parameter\",\"Min\", \"Range\"])\n",
    "\n",
    "param_ranges = pd.concat([swmm_ranges, vvwm_ranges], axis = 0)\n",
    "\n",
    "priors = param_ranges.to_dict(\"index\")\n",
    "\n",
    "# borrowed from Jeff: <https://github.com/JeffreyMinucci/bee_neonic_abc/blob/master/pyabc_run.ipynb>\n",
    "prior = pyabc.Distribution(**{key: pyabc.RV(\"uniform\", loc = v['Min'], scale = v['Range'])\n",
    "                        for key, v in priors.items()})"
   ]
  },
  {
   "cell_type": "code",
   "execution_count": 10,
   "metadata": {},
   "outputs": [
    {
     "data": {
      "text/plain": [
       "<Distribution 'BCoeff2', 'Decay', 'DryTime', 'FC', 'Kdecay', 'Ksat', 'MaxRate', 'MinRate', 'NImperv', 'NPerv', 'PctZero', 'Por', 'Rough', 'SImperv', 'SPerv', 'WCoeff2', 'WP', 'aer_aq', 'aer_aq_temp', 'anae_aq', 'anae_aq_temp', 'benthic_depth', 'bnmas', 'bulk_density', 'chl', 'doc1', 'doc2', 'froc1', 'froc2', 'hydro', 'kd', 'photo', 'porosity', 'rflat', 'sol', 'sused'>"
      ]
     },
     "execution_count": 10,
     "metadata": {},
     "output_type": "execute_result"
    }
   ],
   "source": [
    "prior"
   ]
  },
  {
   "cell_type": "markdown",
   "metadata": {},
   "source": [
    "# Make the .new object\n",
    "### 1. Import observed data"
   ]
  },
  {
   "cell_type": "code",
   "execution_count": 11,
   "metadata": {},
   "outputs": [],
   "source": [
    "# import it again to make inspect it\n",
    "# specifically for TEST mode!\n",
    "with open(os.path.join(main_path, 'master_test','test_obs_data.txt'),'r') as read_file:\n",
    "    obs_dict = eval(read_file.read())\n",
    "# obs_dict"
   ]
  },
  {
   "cell_type": "markdown",
   "metadata": {},
   "source": [
    "### 2. Initialize dask client for dask distributed sampler"
   ]
  },
  {
   "cell_type": "code",
   "execution_count": 12,
   "metadata": {},
   "outputs": [
    {
     "name": "stderr",
     "output_type": "stream",
     "text": [
      "C:\\Users\\jstelman\\Anaconda3\\envs\\swmm1\\lib\\site-packages\\distributed\\node.py:151: UserWarning: Port 8787 is already in use.\n",
      "Perhaps you already have a cluster running?\n",
      "Hosting the HTTP server on port 57786 instead\n",
      "  warnings.warn(\n"
     ]
    }
   ],
   "source": [
    "from dask.distributed import Client#, LocalCluster\n",
    "# cluster = LocalCluster()#n_workers=(90/2), threads_per_worker = 2)  # Set for 96 vCPU compute instance\n",
    "# client = Client(cluster)#,timeout=400)\n",
    "\n",
    "# make it simpler\n",
    "# if __name__ == \"__main__\":\n",
    "client = Client()\n",
    "\n",
    "sampler = pyabc.sampler.DaskDistributedSampler(dask_client = client)"
   ]
  },
  {
   "cell_type": "markdown",
   "metadata": {},
   "source": [
    "### 3. Set up a sqlite db directory"
   ]
  },
  {
   "cell_type": "code",
   "execution_count": 13,
   "metadata": {},
   "outputs": [
    {
     "name": "stdout",
     "output_type": "stream",
     "text": [
      "5e43a2d4\n"
     ]
    }
   ],
   "source": [
    "# Initialize a new ABC inference run\n",
    "dbid = uuid.uuid4().hex[0:8]\n",
    "print(dbid)\n",
    "database_dir = os.path.join(temp_path, 'results_db')  \n",
    "if not os.path.exists(database_dir):\n",
    "    os.mkdir(database_dir)\n",
    "db_path = (\"sqlite:///\" +\n",
    "           os.path.join(database_dir, \"test_pyabc_\" + dbid + \".db\"))"
   ]
  },
  {
   "cell_type": "markdown",
   "metadata": {},
   "source": [
    "### 4. Defining a Distance function\n",
    "\n",
    "We need to refactor the NSE distance function using the pyabc.Distance class.\n",
    "We will need the hydroeval library and the pyabc.SimpleFunctionDistance to do this"
   ]
  },
  {
   "cell_type": "code",
   "execution_count": 14,
   "metadata": {},
   "outputs": [],
   "source": [
    "# make a file to hold onto these NSEs for our own record\n",
    "with open(dbid+\".txt\",\"w\") as nse_file:\n",
    "    nse_file.write(\"NSEs\\n\")"
   ]
  },
  {
   "cell_type": "code",
   "execution_count": 15,
   "metadata": {},
   "outputs": [],
   "source": [
    "def nse(x, x_0):\n",
    "    nse = he.evaluator(he.nse, \n",
    "                       simulation_s = np.array(list(x.values())), \n",
    "                       evaluation = np.array(list(x_0.values())))[0]\n",
    "    # print(\"simulation_s \",np.array(list(x.values())))\n",
    "    # print(\"evaluation \", np.array(list(x_0.values())))\n",
    "    print(\"nse \", nse)\n",
    "    # make record\n",
    "    with open(dbid+\".txt\",\"a\") as nse_file:\n",
    "        nse_file.write(str(nse)+\"\\n\")\n",
    "    return nse\n",
    "NSE = pyabc.SimpleFunctionDistance(fun=nse)\n"
   ]
  },
  {
   "cell_type": "markdown",
   "metadata": {},
   "source": [
    "### 5. Define ABCSMC object"
   ]
  },
  {
   "cell_type": "code",
   "execution_count": 16,
   "metadata": {},
   "outputs": [],
   "source": [
    "abc = pyabc.ABCSMC(model, prior, #distance_function = hydroeval.nse, \n",
    "                   population_size = pyabc.AdaptivePopulationSize(40, max_population_size = 40), # just to shorten the run\n",
    "                   sampler = sampler,\n",
    "                   distance_function = NSE)\n",
    "                   #distance_function = pyabc.PNormDistance(p=2))"
   ]
  },
  {
   "cell_type": "code",
   "execution_count": 17,
   "metadata": {},
   "outputs": [
    {
     "data": {
      "text/plain": [
       "<pyabc.inference.smc.ABCSMC at 0x1dc7c395700>"
      ]
     },
     "execution_count": 17,
     "metadata": {},
     "output_type": "execute_result"
    }
   ],
   "source": [
    "abc"
   ]
  },
  {
   "cell_type": "markdown",
   "metadata": {},
   "source": [
    "### 6. Initialize a new abc run"
   ]
  },
  {
   "cell_type": "code",
   "execution_count": 18,
   "metadata": {},
   "outputs": [
    {
     "data": {
      "text/plain": [
       "<pyabc.storage.history.History at 0x1dc57193310>"
      ]
     },
     "execution_count": 18,
     "metadata": {},
     "output_type": "execute_result"
    }
   ],
   "source": [
    "abc.new(db_path, obs_dict)"
   ]
  },
  {
   "cell_type": "code",
   "execution_count": null,
   "metadata": {},
   "outputs": [
    {
     "name": "stdout",
     "output_type": "stream",
     "text": [
      "nse  -1.8535425267842862e+24\n",
      "nse  -2.91340887162716e+22\n",
      "nse  -8.477655688998076e+22\n",
      "nse  -3.4499030740844673e+24\n",
      "nse  -1.837370633865347e+22\n",
      "nse  -1.9494667478024945e+26\n",
      "nse  -1.4167642772328968e+25\n",
      "nse  -5.108075720863359e+22\n",
      "nse  -1.1534858283879951e+24\n",
      "nse  -6.222612720192415e+23\n",
      "nse  -8.072120435365622e+23\n",
      "nse  -5.29682754397557e+22\n",
      "nse  -8.889711829153913e+23\n",
      "nse  -2.587632998955404e+23\n",
      "nse  -5.463889584980147e+22\n",
      "nse  -3.025954500699361e+23\n",
      "nse  -1.3982018800740644e+23\n",
      "nse  -3.152577905645993e+25\n",
      "nse  -1.1489035051197777e+24\n",
      "nse  -1.0086346483323143e+23\n",
      "nse  -1.7861012901054358e+23\n",
      "nse  -9.198722445260154e+22\n",
      "nse  -1.2920116597084387e+23\n",
      "nse  -4.316200295260966e+23\n",
      "nse  -1.7003676734489177e+24\n",
      "nse  -2.0646497415521854e+25\n",
      "nse  -2.8723863826781425e+25\n",
      "nse  -5.012723750817788e+25\n",
      "nse  -1.2645545880282536e+23\n",
      "nse  -2.6074245310214832e+25\n",
      "nse  -1.54077895431479e+24\n",
      "nse  -2.2256538284549376e+23\n",
      "nse  -1.5484929955716697e+25\n",
      "nse  -8.933022755172301e+24\n",
      "nse  -2.2152759162174488e+23\n",
      "nse  -1.0340776276940722e+23\n",
      "nse  -6.43750465349512e+23\n",
      "nse  -6.220304065389094e+22\n",
      "nse  -3.4364286817716492e+22\n",
      "nse  -2.025736999084232e+24\n"
     ]
    }
   ],
   "source": [
    "history = abc.run(max_nr_populations=1, minimum_epsilon=0.2)"
   ]
  }
 ],
 "metadata": {
  "kernelspec": {
   "display_name": "Python 3",
   "language": "python",
   "name": "python3"
  },
  "language_info": {
   "codemirror_mode": {
    "name": "ipython",
    "version": 3
   },
   "file_extension": ".py",
   "mimetype": "text/x-python",
   "name": "python",
   "nbconvert_exporter": "python",
   "pygments_lexer": "ipython3",
   "version": "3.8.3"
  }
 },
 "nbformat": 4,
 "nbformat_minor": 4
}
