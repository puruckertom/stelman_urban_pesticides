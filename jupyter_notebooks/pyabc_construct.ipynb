{
 "cells": [
  {
   "cell_type": "code",
   "execution_count": 1,
   "metadata": {},
   "outputs": [
    {
     "name": "stdout",
     "output_type": "stream",
     "text": [
      "To activate test mode, run 'inp_path = set_inp_path('test')'.\n",
      "To activate run mode, run 'inp_path = set_inp_path('run')'.\n",
      "C:\\Users\\jstelman\\Git\\stelman_urban_pesticides\\master_test\\NPlesantCreek.inp\n"
     ]
    }
   ],
   "source": [
    "import jn_setup\n",
    "from simulation_procedure import model\n",
    "from tools.paths import *\n",
    "import pandas as pd, pyabc, hydroeval"
   ]
  },
  {
   "cell_type": "code",
   "execution_count": 2,
   "metadata": {},
   "outputs": [],
   "source": [
    "\"\"\"\n",
    "Priors. Get the values from that csv. Just for SWMM at first.\n",
    "\"\"\"\n",
    "swmm_ranges = pd.read_csv(os.path.join(master_path, \"lhs_param_ranges.csv\"), index_col=0,\n",
    "                           usecols = [\"Parameter\",\"Min\", \"Range\"])\n",
    "\n",
    "'''\n",
    "Link up with the vvwm priors and make one big list with 36 params\n",
    "'''\n",
    "vvwm_ranges = pd.read_csv(os.path.join(master_path, \"lhs_param_ranges_vvwm.csv\"), index_col=0,\n",
    "                           usecols = [\"Parameter\",\"Min\", \"Range\"])\n",
    "\n",
    "param_ranges = pd.concat([swmm_ranges, vvwm_ranges], axis = 0)\n",
    "\n",
    "priors = param_ranges.to_dict(\"index\")\n",
    "\n",
    "# borrowed from Jeff: <https://github.com/JeffreyMinucci/bee_neonic_abc/blob/master/pyabc_run.ipynb>\n",
    "prior = pyabc.Distribution(**{key: pyabc.RV(\"uniform\", loc = v['Min'], scale = v['Range'])\n",
    "                        for key, v in priors.items()})"
   ]
  },
  {
   "cell_type": "code",
   "execution_count": 3,
   "metadata": {},
   "outputs": [
    {
     "data": {
      "text/plain": [
       "<Distribution 'BCoeff2', 'Decay', 'DryTime', 'FC', 'Kdecay', 'Ksat', 'MaxRate', 'MinRate', 'NImperv', 'NPerv', 'PctZero', 'Por', 'Rough', 'SImperv', 'SPerv', 'WCoeff2', 'WP', 'aer_aq', 'aer_aq_temp', 'anae_aq', 'anae_aq_temp', 'benthic_depth', 'bnmas', 'bulk_density', 'chl', 'doc1', 'doc2', 'froc1', 'froc2', 'hydro', 'kd', 'photo', 'porosity', 'rflat', 'sol', 'sused'>"
      ]
     },
     "execution_count": 3,
     "metadata": {},
     "output_type": "execute_result"
    }
   ],
   "source": [
    "prior"
   ]
  },
  {
   "cell_type": "markdown",
   "metadata": {},
   "source": [
    "# Make the .new object\n",
    "### 1. Import observed data"
   ]
  },
  {
   "cell_type": "code",
   "execution_count": 5,
   "metadata": {},
   "outputs": [],
   "source": [
    "# import it again to make inspect it\n",
    "# specifically for TEST mode!\n",
    "with open(os.path.join(main_path, 'master_test','test_obs_data.txt'),'r') as read_file:\n",
    "    obs_dict = eval(read_file.read())\n",
    "# obs_dict"
   ]
  },
  {
   "cell_type": "markdown",
   "metadata": {},
   "source": [
    "### 2. Initialize dask client for dask distributed sampler"
   ]
  },
  {
   "cell_type": "code",
   "execution_count": 6,
   "metadata": {},
   "outputs": [],
   "source": [
    "from dask.distributed import Client, LocalCluster\n",
    "cluster = LocalCluster()#n_workers=(90/2), threads_per_worker = 2)  # Set for 96 vCPU compute instance\n",
    "client = Client(cluster)#,timeout=400)\n",
    "\n",
    "sampler = pyabc.sampler.DaskDistributedSampler(dask_client = client)"
   ]
  },
  {
   "cell_type": "markdown",
   "metadata": {},
   "source": [
    "### 3. Define ABCSMC object"
   ]
  },
  {
   "cell_type": "code",
   "execution_count": 7,
   "metadata": {},
   "outputs": [],
   "source": [
    "abc = pyabc.ABCSMC(model, prior, distance_function = hydroeval.nse, \n",
    "                   population_size = pyabc.AdaptivePopulationSize(40, max_population_size = 40), # just to shorten the run\n",
    "                   sampler = sampler)"
   ]
  },
  {
   "cell_type": "code",
   "execution_count": 8,
   "metadata": {},
   "outputs": [
    {
     "data": {
      "text/plain": [
       "<pyabc.inference.smc.ABCSMC at 0x14bfb148a90>"
      ]
     },
     "execution_count": 8,
     "metadata": {},
     "output_type": "execute_result"
    }
   ],
   "source": [
    "abc"
   ]
  },
  {
   "cell_type": "markdown",
   "metadata": {},
   "source": [
    "### 4. Set up a sqlite db directory"
   ]
  },
  {
   "cell_type": "code",
   "execution_count": 10,
   "metadata": {},
   "outputs": [],
   "source": [
    "# Initialize a new ABC inference run\n",
    "database_dir = os.path.join(temp_path, 'results_db')  \n",
    "if not os.path.exists(database_dir):\n",
    "    os.mkdir(database_dir)\n",
    "db_path = (\"sqlite:///\" +\n",
    "           os.path.join(database_dir, \"test_pyabc.db\"))"
   ]
  },
  {
   "cell_type": "markdown",
   "metadata": {},
   "source": [
    "### 5. Initialize a new abc run"
   ]
  },
  {
   "cell_type": "code",
   "execution_count": 11,
   "metadata": {},
   "outputs": [
    {
     "data": {
      "text/plain": [
       "<pyabc.storage.history.History at 0x14bfb158ee0>"
      ]
     },
     "execution_count": 11,
     "metadata": {},
     "output_type": "execute_result"
    }
   ],
   "source": [
    "abc.new(db_path, obs_dict)"
   ]
  },
  {
   "cell_type": "code",
   "execution_count": null,
   "metadata": {},
   "outputs": [],
   "source": [
    "history = abc.run(max_nr_populations=3, minimum_epsilon=0.2)"
   ]
  }
 ],
 "metadata": {
  "kernelspec": {
   "display_name": "Python 3",
   "language": "python",
   "name": "python3"
  },
  "language_info": {
   "codemirror_mode": {
    "name": "ipython",
    "version": 3
   },
   "file_extension": ".py",
   "mimetype": "text/x-python",
   "name": "python",
   "nbconvert_exporter": "python",
   "pygments_lexer": "ipython3",
   "version": "3.8.3"
  }
 },
 "nbformat": 4,
 "nbformat_minor": 4
}
