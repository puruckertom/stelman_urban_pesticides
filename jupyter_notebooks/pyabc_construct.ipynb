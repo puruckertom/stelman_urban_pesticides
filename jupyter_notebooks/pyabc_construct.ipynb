{
 "cells": [
  {
   "cell_type": "code",
   "execution_count": 1,
   "metadata": {},
   "outputs": [],
   "source": [
    "import jn_setup\n",
    "from tools.paths import *\n",
    "from simulation_procedure import make_model\n",
    "import pandas as pd, pyabc, hydroeval as he, numpy as np, uuid"
   ]
  },
  {
   "cell_type": "code",
   "execution_count": 2,
   "metadata": {},
   "outputs": [
    {
     "name": "stdout",
     "output_type": "stream",
     "text": [
      "C:\\Users\\jstelman\\Git\\stelman_urban_pesticides\\master_debug\\NPlesantCreek.inp\n"
     ]
    }
   ],
   "source": [
    "# mode = \"test\"\n",
    "mode = \"debug\"\n",
    "# debug_params = [1,2,3,4,5,16,17,18,19,20] # if given, use subset of parameters instead of all parameters\n",
    "debug_params = [] # if given empty list, don't subset parameters. Use all parameters.\n",
    "model = make_model(mode = mode, swmm_cleanup = 'full', vvwm_cleanup = 'full')"
   ]
  },
  {
   "cell_type": "code",
   "execution_count": 3,
   "metadata": {},
   "outputs": [],
   "source": [
    "# Priors. Get the values from that csv. Just for SWMM at first.\n",
    "swmm_ranges = pd.read_csv(os.path.join(master_path, \"swmm_param_priors.csv\"), index_col=0,\n",
    "                           usecols = [\"Parameter\", \"Min\", \"Range\"])\n",
    "#Link up with the vvwm priors and make one big list with 34 params\n",
    "vvwm_ranges = pd.read_csv(os.path.join(master_path, \"vvwm_param_priors.csv\"), index_col=0,\n",
    "                           usecols = [\"Parameter\", \"Min\", \"Range\"])\n",
    "param_ranges = pd.concat([swmm_ranges, vvwm_ranges], axis = 0)\n",
    "\n",
    "# if subset specified, subset parameters forming joint prior as specified\n",
    "if mode == 'debug' and debug_params:\n",
    "    param_ranges = param_ranges.iloc[debug_params]\n",
    "# make a dictionary\n",
    "priors = param_ranges.to_dict(\"index\")\n",
    "# make prior object\n",
    "# borrowed from Jeff: <https://github.com/JeffreyMinucci/bee_neonic_abc/blob/master/pyabc_run.ipynb>\n",
    "prior = pyabc.Distribution(**{key: pyabc.RV(\"uniform\", loc = v['Min'], scale = v['Range'])\n",
    "                        for key, v in priors.items()})"
   ]
  },
  {
   "cell_type": "code",
   "execution_count": 4,
   "metadata": {},
   "outputs": [
    {
     "data": {
      "text/plain": [
       "{'NImperv': {'Min': 0.01, 'Range': 0.015},\n",
       " 'NPerv': {'Min': 0.05, 'Range': 0.45},\n",
       " 'SImperv': {'Min': 1.27, 'Range': 1.27},\n",
       " 'SPerv': {'Min': 2.54, 'Range': 2.54},\n",
       " 'PctZero': {'Min': 0.01, 'Range': 99.99},\n",
       " 'MaxRate': {'Min': 8.46, 'Range': 118.54},\n",
       " 'MinRate': {'Min': 0.254, 'Range': 10.666},\n",
       " 'Decay': {'Min': 2.0, 'Range': 5.0},\n",
       " 'DryTime': {'Min': 2.0, 'Range': 12.0},\n",
       " 'Por': {'Min': 0.4, 'Range': 0.1},\n",
       " 'WP': {'Min': 0.024, 'Range': 0.241},\n",
       " 'FC': {'Min': 0.06, 'Range': 0.32},\n",
       " 'Ksat': {'Min': 0.25, 'Range': 12.45},\n",
       " 'Kdecay': {'Min': 0.002739726, 'Range': 0.197260274},\n",
       " 'BCoeff2': {'Min': 0.5, 'Range': 1.5},\n",
       " 'WCoeff2': {'Min': 0.066, 'Range': 0.148},\n",
       " 'kd': {'Min': 882.0, 'Range': 5028.0},\n",
       " 'aer_aq': {'Min': 5.0, 'Range': 360.0},\n",
       " 'aer_aq_temp': {'Min': 20.0, 'Range': 5.0},\n",
       " 'anae_aq': {'Min': 5.0, 'Range': 725.0},\n",
       " 'anae_aq_temp': {'Min': 20.0, 'Range': 5.0},\n",
       " 'photo': {'Min': 96.9, 'Range': 319.1},\n",
       " 'hydro': {'Min': 0.1, 'Range': 364.9},\n",
       " 'sol': {'Min': 0.00024063, 'Range': 0.74406337},\n",
       " 'benthic_depth': {'Min': 0.01, 'Range': 0.99},\n",
       " 'porosity': {'Min': 0.1, 'Range': 0.7},\n",
       " 'bulk_density': {'Min': 0.86, 'Range': 0.9},\n",
       " 'froc2': {'Min': 0.001, 'Range': 0.029},\n",
       " 'doc2': {'Min': 0.01, 'Range': 59.99},\n",
       " 'bnmas': {'Min': 0.001, 'Range': 4.999},\n",
       " 'sused': {'Min': 0.005, 'Range': 79.995},\n",
       " 'chl': {'Min': 0.001, 'Range': 1.499},\n",
       " 'froc1': {'Min': 0.001, 'Range': 0.139},\n",
       " 'doc1': {'Min': 0.1, 'Range': 14.9}}"
      ]
     },
     "execution_count": 4,
     "metadata": {},
     "output_type": "execute_result"
    }
   ],
   "source": [
    "priors"
   ]
  },
  {
   "cell_type": "code",
   "execution_count": 5,
   "metadata": {},
   "outputs": [
    {
     "data": {
      "text/plain": [
       "<Distribution 'BCoeff2', 'Decay', 'DryTime', 'FC', 'Kdecay', 'Ksat', 'MaxRate', 'MinRate', 'NImperv', 'NPerv', 'PctZero', 'Por', 'SImperv', 'SPerv', 'WCoeff2', 'WP', 'aer_aq', 'aer_aq_temp', 'anae_aq', 'anae_aq_temp', 'benthic_depth', 'bnmas', 'bulk_density', 'chl', 'doc1', 'doc2', 'froc1', 'froc2', 'hydro', 'kd', 'photo', 'porosity', 'sol', 'sused'>"
      ]
     },
     "execution_count": 5,
     "metadata": {},
     "output_type": "execute_result"
    }
   ],
   "source": [
    "prior"
   ]
  },
  {
   "cell_type": "markdown",
   "metadata": {},
   "source": [
    "# Make the .new object\n",
    "### 1. Import observed data"
   ]
  },
  {
   "cell_type": "code",
   "execution_count": 6,
   "metadata": {},
   "outputs": [
    {
     "data": {
      "text/plain": [
       "{'2009-02-13_28': 0.0485, '2009-04-07_28': 0.0192, '2009-04-13_28': 0.00858}"
      ]
     },
     "execution_count": 6,
     "metadata": {},
     "output_type": "execute_result"
    }
   ],
   "source": [
    "if mode == 'debug':\n",
    "    with open(os.path.join(main_path, 'master_debug','debug_obs_data.txt'),'r') as read_file:\n",
    "        obs_dict = eval(read_file.read())\n",
    "elif mode == 'test':\n",
    "    with open(os.path.join(main_path, 'master_test','test_obs_data.txt'),'r') as read_file:\n",
    "        obs_dict = eval(read_file.read())\n",
    "elif mode == 'run':\n",
    "    with open(os.path.join(main_path, 'master','obs_data.txt'),'r') as read_file:\n",
    "        obs_dict = eval(read_file.read())\n",
    "obs_dict"
   ]
  },
  {
   "cell_type": "markdown",
   "metadata": {},
   "source": [
    "### 2. Initialize dask client for dask distributed sampler"
   ]
  },
  {
   "cell_type": "code",
   "execution_count": 7,
   "metadata": {},
   "outputs": [],
   "source": [
    "from dask.distributed import Client#, LocalCluster\n",
    "# cluster = LocalCluster()#n_workers=(90/2), threads_per_worker = 2)  # Set for 96 vCPU compute instance\n",
    "# client = Client(cluster)#,timeout=400)\n",
    "\n",
    "# make it simpler\n",
    "# if __name__ == \"__main__\":\n",
    "client = Client()\n",
    "# make sampler object\n",
    "sampler = pyabc.sampler.DaskDistributedSampler(dask_client = client)\n",
    "\n",
    "# # See if this takes all those errors out\n",
    "# sampler = pyabc.sampler.SingleCoreSampler()\n",
    "\n",
    "# # make the process more transparent\n",
    "sampler.sample_factory.record_rejected = True\n",
    "sampler.show_progress = True"
   ]
  },
  {
   "cell_type": "markdown",
   "metadata": {},
   "source": [
    "### 3. Set up a sqlite db directory"
   ]
  },
  {
   "cell_type": "code",
   "execution_count": 8,
   "metadata": {},
   "outputs": [
    {
     "name": "stdout",
     "output_type": "stream",
     "text": [
      "04c40643\n"
     ]
    }
   ],
   "source": [
    "# Initialize a new ABC inference run\n",
    "# create a random, unique database ID\n",
    "dbid = uuid.uuid4().hex[0:8]\n",
    "print(dbid)\n",
    "# compose path to run-specific database\n",
    "database_dir = os.path.join(temp_path, 'results_db')  \n",
    "if not os.path.exists(database_dir):\n",
    "    os.mkdir(database_dir)\n",
    "db_path = (\"sqlite:///\" +\n",
    "           os.path.join(database_dir, \"test_pyabc_\" + dbid + \".db\"))"
   ]
  },
  {
   "cell_type": "markdown",
   "metadata": {},
   "source": [
    "### 4. Defining a Distance function\n",
    "\n",
    "We need to refactor the NSE distance function using the pyabc.Distance class.\n",
    "We will need the hydroeval library and the pyabc.SimpleFunctionDistance to do this"
   ]
  },
  {
   "cell_type": "code",
   "execution_count": 9,
   "metadata": {},
   "outputs": [],
   "source": [
    "# make a file to hold onto these NSEs for our own record\n",
    "with open(os.path.join(temp_path, \"NSEs_\" + dbid + \".txt\"), \"w\") as nse_file:\n",
    "    nse_file.write(\"NSEs\\n\")"
   ]
  },
  {
   "cell_type": "code",
   "execution_count": 10,
   "metadata": {},
   "outputs": [],
   "source": [
    "# define NSE Distance function: Calculate NSE with hydroeval library and the subtract 1 from it to get NSED\n",
    "def nse(x, x_0):\n",
    "    nse = he.evaluator(he.nse, \n",
    "                       simulation_s = np.array(list(x.values())),\n",
    "                       evaluation = np.array(list(x_0.values())))[0]\n",
    "    print(\"nse \", nse)\n",
    "    # make record\n",
    "    with open(os.path.join(temp_path, \"NSEs_\" + dbid + \".txt\"),\"a\") as nse_file:\n",
    "        nse_file.write(str(nse)+\"\\n\")\n",
    "    return nse\n",
    "    \n",
    "# NSE = pyabc.SimpleFunctionDistance(fun=nse)\n",
    "\n",
    "# the best answer is 1\n",
    "# make one that measures distance from 1\n",
    "NSED = pyabc.SimpleFunctionDistance(fun = lambda x, x_0: (1 - nse(x, x_0)))"
   ]
  },
  {
   "cell_type": "markdown",
   "metadata": {},
   "source": [
    "### 5. Define ABCSMC object"
   ]
  },
  {
   "cell_type": "code",
   "execution_count": 11,
   "metadata": {},
   "outputs": [],
   "source": [
    "abc = pyabc.ABCSMC(model, prior, \n",
    "                   population_size = pyabc.ConstantPopulationSize(5), # just to shorten the run\n",
    "                   sampler = sampler,\n",
    "                   distance_function = NSED)"
   ]
  },
  {
   "cell_type": "code",
   "execution_count": 12,
   "metadata": {},
   "outputs": [
    {
     "data": {
      "text/plain": [
       "<pyabc.inference.smc.ABCSMC at 0x275346557c0>"
      ]
     },
     "execution_count": 12,
     "metadata": {},
     "output_type": "execute_result"
    }
   ],
   "source": [
    "abc"
   ]
  },
  {
   "cell_type": "markdown",
   "metadata": {},
   "source": [
    "### 6. Initialize a new abc run"
   ]
  },
  {
   "cell_type": "code",
   "execution_count": 13,
   "metadata": {},
   "outputs": [
    {
     "data": {
      "text/plain": [
       "<pyabc.storage.history.History at 0x27534676670>"
      ]
     },
     "execution_count": 13,
     "metadata": {},
     "output_type": "execute_result"
    }
   ],
   "source": [
    "abc.new(db_path, obs_dict)"
   ]
  },
  {
   "cell_type": "code",
   "execution_count": 14,
   "metadata": {
    "scrolled": false
   },
   "outputs": [
    {
     "name": "stdout",
     "output_type": "stream",
     "text": [
      "nse  -5.74001848760223e+22\n",
      "nse  -7.733160114201307e+22\n",
      "nse  -1.5345095643064505e+23\n",
      "nse  -2.37602204687532e+22\n",
      "nse  -6.560020838135587e+23\n"
     ]
    },
    {
     "name": "stderr",
     "output_type": "stream",
     "text": [
      "distributed.nanny - WARNING - Worker process still alive after 4 seconds, killing\n",
      "distributed.nanny - WARNING - Worker process still alive after 4 seconds, killing\n",
      "distributed.nanny - WARNING - Worker process still alive after 4 seconds, killing\n",
      "distributed.nanny - WARNING - Worker process still alive after 4 seconds, killing\n"
     ]
    }
   ],
   "source": [
    "# Back to 1 gen\n",
    "history = abc.run(max_nr_populations=2, minimum_epsilon=0.2)"
   ]
  }
 ],
 "metadata": {
  "kernelspec": {
   "display_name": "Python 3",
   "language": "python",
   "name": "python3"
  },
  "language_info": {
   "codemirror_mode": {
    "name": "ipython",
    "version": 3
   },
   "file_extension": ".py",
   "mimetype": "text/x-python",
   "name": "python",
   "nbconvert_exporter": "python",
   "pygments_lexer": "ipython3",
   "version": "3.8.3"
  }
 },
 "nbformat": 4,
 "nbformat_minor": 4
}
