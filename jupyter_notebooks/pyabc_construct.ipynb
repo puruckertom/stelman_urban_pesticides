{
 "cells": [
  {
   "cell_type": "code",
   "execution_count": 1,
   "metadata": {},
   "outputs": [
    {
     "name": "stdout",
     "output_type": "stream",
     "text": [
      "To activate debug mode, run 'inp_path = set_inp_path('debug')'.\n",
      "To activate test mode, run 'inp_path = set_inp_path('test')'.\n",
      "To activate run mode, run 'inp_path = set_inp_path('run')'.\n"
     ]
    }
   ],
   "source": [
    "import jn_setup\n",
    "#from simulation_procedure import model, mode\n",
    "from tools.paths import *\n",
    "from simulation_procedure import make_model\n",
    "import pandas as pd, pyabc, hydroeval as he, numpy as np, uuid"
   ]
  },
  {
   "cell_type": "code",
   "execution_count": 2,
   "metadata": {},
   "outputs": [
    {
     "name": "stdout",
     "output_type": "stream",
     "text": [
      "C:\\Users\\jstelman\\Git\\stelman_urban_pesticides\\master_test\\NPlesantCreek.inp\n"
     ]
    }
   ],
   "source": [
    "mode = \"test\"\n",
    "model = make_model(mode = mode, swmm_cleanup = 'none', vvwm_cleanup = 'none')"
   ]
  },
  {
   "cell_type": "code",
   "execution_count": 3,
   "metadata": {},
   "outputs": [],
   "source": [
    "\"\"\"\n",
    "Priors. Get the values from that csv. Just for SWMM at first.\n",
    "\"\"\"\n",
    "swmm_ranges = pd.read_csv(os.path.join(master_path, \"lhs_param_ranges.csv\"), index_col=0,\n",
    "                           usecols = [\"Parameter\",\"Min\", \"Range\"])\n",
    "\n",
    "'''\n",
    "Link up with the vvwm priors and make one big list with 36 params\n",
    "'''\n",
    "vvwm_ranges = pd.read_csv(os.path.join(master_path, \"lhs_param_ranges_vvwm.csv\"), index_col=0,\n",
    "                           usecols = [\"Parameter\",\"Min\", \"Range\"])\n",
    "\n",
    "param_ranges = pd.concat([swmm_ranges, vvwm_ranges], axis = 0)\n",
    "\n",
    "if mode == \"debug\":\n",
    "    param_ranges = param_ranges.loc[['NImperv','kd']]\n",
    "\n",
    "priors = param_ranges.to_dict(\"index\")\n",
    "\n",
    "# borrowed from Jeff: <https://github.com/JeffreyMinucci/bee_neonic_abc/blob/master/pyabc_run.ipynb>\n",
    "prior = pyabc.Distribution(**{key: pyabc.RV(\"uniform\", loc = v['Min'], scale = v['Range'])\n",
    "                        for key, v in priors.items()})"
   ]
  },
  {
   "cell_type": "code",
   "execution_count": 4,
   "metadata": {},
   "outputs": [
    {
     "data": {
      "text/plain": [
       "{'NImperv': {'Min': 0.01, 'Range': 0.015},\n",
       " 'NPerv': {'Min': 0.05, 'Range': 0.45},\n",
       " 'SImperv': {'Min': 1.27, 'Range': 1.27},\n",
       " 'SPerv': {'Min': 2.54, 'Range': 2.54},\n",
       " 'PctZero': {'Min': 0.01, 'Range': 99.99},\n",
       " 'MaxRate': {'Min': 8.46, 'Range': 118.54},\n",
       " 'MinRate': {'Min': 0.254, 'Range': 10.666},\n",
       " 'Decay': {'Min': 2.0, 'Range': 5.0},\n",
       " 'DryTime': {'Min': 2.0, 'Range': 12.0},\n",
       " 'Por': {'Min': 0.4, 'Range': 0.1},\n",
       " 'FC': {'Min': 0.06, 'Range': 0.32},\n",
       " 'WP': {'Min': 0.024, 'Range': 0.241},\n",
       " 'Ksat': {'Min': 0.25, 'Range': 12.45},\n",
       " 'Rough': {'Min': 0.01, 'Range': 0.016},\n",
       " 'Kdecay': {'Min': 0.002739726, 'Range': 0.197260274},\n",
       " 'BCoeff2': {'Min': 0.5, 'Range': 1.5},\n",
       " 'WCoeff2': {'Min': 0.066, 'Range': 0.148},\n",
       " 'kd': {'Min': 882.0, 'Range': 5028.0},\n",
       " 'aer_aq': {'Min': 5.0, 'Range': 360.0},\n",
       " 'aer_aq_temp': {'Min': 20.0, 'Range': 5.0},\n",
       " 'anae_aq': {'Min': 5.0, 'Range': 725.0},\n",
       " 'anae_aq_temp': {'Min': 20.0, 'Range': 5.0},\n",
       " 'photo': {'Min': 96.9, 'Range': 319.1},\n",
       " 'rflat': {'Min': 40.0, 'Range': 0.0},\n",
       " 'hydro': {'Min': 0.1, 'Range': 364.9},\n",
       " 'sol': {'Min': 0.00024063, 'Range': 0.74406337},\n",
       " 'benthic_depth': {'Min': 0.01, 'Range': 0.99},\n",
       " 'porosity': {'Min': 0.1, 'Range': 0.7},\n",
       " 'bulk_density': {'Min': 0.86, 'Range': 0.9},\n",
       " 'froc2': {'Min': 0.001, 'Range': 0.029},\n",
       " 'doc2': {'Min': 0.01, 'Range': 59.99},\n",
       " 'bnmas': {'Min': 0.001, 'Range': 4.999},\n",
       " 'sused': {'Min': 0.005, 'Range': 79.995},\n",
       " 'chl': {'Min': 0.001, 'Range': 1.499},\n",
       " 'froc1': {'Min': 0.001, 'Range': 0.139},\n",
       " 'doc1': {'Min': 0.1, 'Range': 14.9}}"
      ]
     },
     "execution_count": 4,
     "metadata": {},
     "output_type": "execute_result"
    }
   ],
   "source": [
    "priors"
   ]
  },
  {
   "cell_type": "code",
   "execution_count": 5,
   "metadata": {},
   "outputs": [
    {
     "data": {
      "text/plain": [
       "<Distribution 'BCoeff2', 'Decay', 'DryTime', 'FC', 'Kdecay', 'Ksat', 'MaxRate', 'MinRate', 'NImperv', 'NPerv', 'PctZero', 'Por', 'Rough', 'SImperv', 'SPerv', 'WCoeff2', 'WP', 'aer_aq', 'aer_aq_temp', 'anae_aq', 'anae_aq_temp', 'benthic_depth', 'bnmas', 'bulk_density', 'chl', 'doc1', 'doc2', 'froc1', 'froc2', 'hydro', 'kd', 'photo', 'porosity', 'rflat', 'sol', 'sused'>"
      ]
     },
     "execution_count": 5,
     "metadata": {},
     "output_type": "execute_result"
    }
   ],
   "source": [
    "prior"
   ]
  },
  {
   "cell_type": "markdown",
   "metadata": {},
   "source": [
    "# Make the .new object\n",
    "### 1. Import observed data"
   ]
  },
  {
   "cell_type": "code",
   "execution_count": 6,
   "metadata": {},
   "outputs": [
    {
     "data": {
      "text/plain": [
       "{'2009-02-13_26': 0.017,\n",
       " '2009-02-13_28': 0.0485,\n",
       " '2009-02-13_29': 0.203,\n",
       " '2009-04-07_28': 0.0192,\n",
       " '2009-04-07_29': 0.0985,\n",
       " '2009-04-08_26': 0.00774,\n",
       " '2009-04-13_26': 0.00088,\n",
       " '2009-04-13_28': 0.00858,\n",
       " '2009-04-13_29': 0.0257,\n",
       " '2009-05-01_26': 0.0088,\n",
       " '2009-05-01_28': 0.0145,\n",
       " '2009-05-01_29': 0.0203,\n",
       " '2009-08-28_26': 0.00088,\n",
       " '2009-08-28_28': 0.00553,\n",
       " '2009-08-28_29': 0.0168,\n",
       " '2009-10-12_26': 0.00088,\n",
       " '2009-10-12_28': 0.0074,\n",
       " '2009-10-12_29': 0.0141,\n",
       " '2009-10-13_26': 0.0195,\n",
       " '2009-10-13_28': 0.0513,\n",
       " '2009-10-13_29': 0.0332,\n",
       " '2010-04-04_26': 0.0114,\n",
       " '2010-04-04_28': 0.0388,\n",
       " '2010-04-04_29': 0.0405,\n",
       " '2010-07-19_26': 0.00088,\n",
       " '2010-07-19_28': 0.0146,\n",
       " '2010-07-19_29': 0.0343,\n",
       " '2010-07-19_42': 0.00088,\n",
       " '2010-10-24_26': 0.00088,\n",
       " '2010-10-24_29': 0.0317,\n",
       " '2010-10-24_35': 0.0094,\n",
       " '2010-10-24_38': 0.0067,\n",
       " '2010-10-24_42': 0.00088,\n",
       " '2011-02-16_26': 0.0799,\n",
       " '2011-02-16_29': 0.064,\n",
       " '2011-02-16_35': 0.0251,\n",
       " '2011-02-16_38': 0.0368,\n",
       " '2011-02-16_42': 0.00088}"
      ]
     },
     "execution_count": 6,
     "metadata": {},
     "output_type": "execute_result"
    }
   ],
   "source": [
    "# import it again to make inspect it\n",
    "# specifically for TEST mode!\n",
    "if mode == 'debug':\n",
    "    with open(os.path.join(main_path, 'master_debug','debug_obs_data.txt'),'r') as read_file:\n",
    "        obs_dict = eval(read_file.read())\n",
    "elif mode == 'test':\n",
    "    with open(os.path.join(main_path, 'master_test','test_obs_data.txt'),'r') as read_file:\n",
    "        obs_dict = eval(read_file.read())\n",
    "elif mode == 'run':\n",
    "    with open(os.path.join(main_path, 'master','obs_data.txt'),'r') as read_file:\n",
    "        obs_dict = eval(read_file.read())\n",
    "obs_dict"
   ]
  },
  {
   "cell_type": "markdown",
   "metadata": {},
   "source": [
    "### 2. Initialize dask client for dask distributed sampler"
   ]
  },
  {
   "cell_type": "code",
   "execution_count": 7,
   "metadata": {},
   "outputs": [],
   "source": [
    "# from dask.distributed import Client#, LocalCluster\n",
    "# cluster = LocalCluster()#n_workers=(90/2), threads_per_worker = 2)  # Set for 96 vCPU compute instance\n",
    "# client = Client(cluster)#,timeout=400)\n",
    "\n",
    "# make it simpler\n",
    "# if __name__ == \"__main__\":\n",
    "# client = Client()\n",
    "\n",
    "# sampler = pyabc.sampler.DaskDistributedSampler(dask_client = client)\n",
    "\n",
    "# See if this takes all those errors out\n",
    "sampler = pyabc.sampler.SingleCoreSampler()\n",
    "# make the process more transparent\n",
    "sampler.sample_factory.record_rejected = True\n",
    "sampler.show_progress = True"
   ]
  },
  {
   "cell_type": "markdown",
   "metadata": {},
   "source": [
    "### 3. Set up a sqlite db directory"
   ]
  },
  {
   "cell_type": "code",
   "execution_count": 8,
   "metadata": {},
   "outputs": [
    {
     "name": "stdout",
     "output_type": "stream",
     "text": [
      "6edebc99\n"
     ]
    }
   ],
   "source": [
    "# Initialize a new ABC inference run\n",
    "dbid = uuid.uuid4().hex[0:8]\n",
    "print(dbid)\n",
    "database_dir = os.path.join(temp_path, 'results_db')  \n",
    "if not os.path.exists(database_dir):\n",
    "    os.mkdir(database_dir)\n",
    "db_path = (\"sqlite:///\" +\n",
    "           os.path.join(database_dir, \"test_pyabc_\" + dbid + \".db\"))"
   ]
  },
  {
   "cell_type": "markdown",
   "metadata": {},
   "source": [
    "### 4. Defining a Distance function\n",
    "\n",
    "We need to refactor the NSE distance function using the pyabc.Distance class.\n",
    "We will need the hydroeval library and the pyabc.SimpleFunctionDistance to do this"
   ]
  },
  {
   "cell_type": "code",
   "execution_count": 9,
   "metadata": {},
   "outputs": [],
   "source": [
    "# make a file to hold onto these NSEs for our own record\n",
    "with open(os.path.join(temp_path, \"NSEs_\" + dbid + \".txt\"), \"w\") as nse_file:\n",
    "    nse_file.write(\"NSEs\\n\")"
   ]
  },
  {
   "cell_type": "code",
   "execution_count": 10,
   "metadata": {},
   "outputs": [],
   "source": [
    "def nse(x, x_0):\n",
    "    nse = he.evaluator(he.nse, \n",
    "                       simulation_s = np.array(list(x.values())), \n",
    "                       evaluation = np.array(list(x_0.values())))[0]\n",
    "    print(\"nse \", nse)\n",
    "    # make record\n",
    "    with open(os.path.join(temp_path, \"NSEs_\" + dbid + \".txt\"),\"a\") as nse_file:\n",
    "        nse_file.write(str(nse)+\"\\n\")\n",
    "    return nse\n",
    "    \n",
    "NSE = pyabc.SimpleFunctionDistance(fun=nse)\n",
    "\n",
    "# the best answer is 1\n",
    "# make one that measures distance from 1\n",
    "NSED = pyabc.SimpleFunctionDistance(fun = lambda x, x_0: 1 - nse(x, x_0))"
   ]
  },
  {
   "cell_type": "markdown",
   "metadata": {},
   "source": [
    "### 5. Define ABCSMC object"
   ]
  },
  {
   "cell_type": "code",
   "execution_count": 11,
   "metadata": {},
   "outputs": [],
   "source": [
    "abc = pyabc.ABCSMC(model, prior, \n",
    "                   # might fix the dask problem too\n",
    "                   population_size = pyabc.ConstantPopulationSize(40), # just to shorten the run\n",
    "                   sampler = sampler,\n",
    "                   distance_function = NSED)"
   ]
  },
  {
   "cell_type": "code",
   "execution_count": 12,
   "metadata": {},
   "outputs": [
    {
     "data": {
      "text/plain": [
       "<pyabc.inference.smc.ABCSMC at 0x2b6843fb3a0>"
      ]
     },
     "execution_count": 12,
     "metadata": {},
     "output_type": "execute_result"
    }
   ],
   "source": [
    "abc"
   ]
  },
  {
   "cell_type": "markdown",
   "metadata": {},
   "source": [
    "### 6. Initialize a new abc run"
   ]
  },
  {
   "cell_type": "code",
   "execution_count": 13,
   "metadata": {},
   "outputs": [
    {
     "data": {
      "text/plain": [
       "<pyabc.storage.history.History at 0x2b68447b340>"
      ]
     },
     "execution_count": 13,
     "metadata": {},
     "output_type": "execute_result"
    }
   ],
   "source": [
    "abc.new(db_path, obs_dict)"
   ]
  },
  {
   "cell_type": "code",
   "execution_count": 14,
   "metadata": {},
   "outputs": [
    {
     "name": "stdout",
     "output_type": "stream",
     "text": [
      "Folder  3bebe181  created \n",
      "\n",
      "Folder  3bebe181 outfall_31_26  created \n",
      "\n",
      "Folder  3bebe181 outfall_31_28  created \n",
      "\n",
      "Folder  3bebe181 outfall_31_29  created \n",
      "\n",
      "Folder  3bebe181 outfall_31_35  created \n",
      "\n",
      "Folder  3bebe181 outfall_31_36  created \n",
      "\n",
      "Folder  3bebe181 outfall_31_38  created \n",
      "\n",
      "Folder  3bebe181 outfall_31_42  created \n",
      "\n",
      " 25% |██████                  | 1/4 Folder  d6c99df9  created \n",
      "\n",
      "Folder  d6c99df9 outfall_31_26  created \n",
      "\n",
      "Folder  d6c99df9 outfall_31_28  created \n",
      "\n",
      "Folder  d6c99df9 outfall_31_29  created \n",
      "\n",
      "Folder  d6c99df9 outfall_31_35  created \n",
      "\n",
      "Folder  d6c99df9 outfall_31_36  created \n",
      "\n",
      "Folder  d6c99df9 outfall_31_38  created \n",
      "\n",
      "Folder  d6c99df9 outfall_31_42  created \n",
      "\n",
      " 50% |████████████            | 2/4 Folder  10987ec3  created \n",
      "\n",
      "Folder  10987ec3 outfall_31_26  created \n",
      "\n",
      "Folder  10987ec3 outfall_31_28  created \n",
      "\n",
      "Folder  10987ec3 outfall_31_29  created \n",
      "\n",
      "Folder  10987ec3 outfall_31_35  created \n",
      "\n",
      "Folder  10987ec3 outfall_31_36  created \n",
      "\n",
      "Folder  10987ec3 outfall_31_38  created \n",
      "\n",
      "Folder  10987ec3 outfall_31_42  created \n",
      "\n",
      " 75% |██████████████████      | 3/4 Folder  69b5992e  created \n",
      "\n",
      "Folder  69b5992e outfall_31_26  created \n",
      "\n",
      "Folder  69b5992e outfall_31_28  created \n",
      "\n",
      "Folder  69b5992e outfall_31_29  created \n",
      "\n",
      "Folder  69b5992e outfall_31_35  created \n",
      "\n",
      "Folder  69b5992e outfall_31_36  created \n",
      "\n",
      "Folder  69b5992e outfall_31_38  created \n",
      "\n",
      "Folder  69b5992e outfall_31_42  created \n",
      "\n",
      "nse  -7.31400231419859e+23           \n",
      "nse  -7.31400231419859e+23\n",
      "nse  -7.31400231419859e+23\n",
      "nse  -7.31400231419859e+23\n",
      "Folder  dfb49f77  created \n",
      "\n",
      "Folder  dfb49f77 outfall_31_26  created \n",
      "\n",
      "Folder  dfb49f77 outfall_31_28  created \n",
      "\n",
      "Folder  dfb49f77 outfall_31_29  created \n",
      "\n",
      "Folder  dfb49f77 outfall_31_35  created \n",
      "\n",
      "Folder  dfb49f77 outfall_31_36  created \n",
      "\n",
      "Folder  dfb49f77 outfall_31_38  created \n",
      "\n",
      "Folder  dfb49f77 outfall_31_42  created \n",
      "\n",
      "nse  -7.31400231419859e+23\n",
      " 25% |██████                  | 1/4 Folder  1e4f8d13  created \n",
      "\n"
     ]
    },
    {
     "name": "stderr",
     "output_type": "stream",
     "text": [
      "C:\\Users\\jstelman\\Anaconda3\\envs\\swmm1\\lib\\site-packages\\scipy\\stats\\_distn_infrastructure.py:1835: RuntimeWarning: invalid value encountered in double_scalars\n",
      "  x = np.asarray((x - loc)/scale, dtype=dtyp)\n"
     ]
    },
    {
     "name": "stdout",
     "output_type": "stream",
     "text": [
      "Folder  1e4f8d13 outfall_31_26  created \n",
      "\n",
      "Folder  1e4f8d13 outfall_31_28  created \n",
      "\n",
      "Folder  1e4f8d13 outfall_31_29  created \n",
      "\n",
      "Folder  1e4f8d13 outfall_31_35  created \n",
      "\n",
      "Folder  1e4f8d13 outfall_31_36  created \n",
      "\n",
      "Folder  1e4f8d13 outfall_31_38  created \n",
      "\n",
      "Folder  1e4f8d13 outfall_31_42  created \n",
      "\n",
      "nse  -7.31400231419859e+23\n",
      " 50% |████████████            | 2/4 Folder  d40dc443  created \n",
      "\n",
      "Folder  d40dc443 outfall_31_26  created \n",
      "\n",
      "Folder  d40dc443 outfall_31_28  created \n",
      "\n",
      "Folder  d40dc443 outfall_31_29  created \n",
      "\n",
      "Folder  d40dc443 outfall_31_35  created \n",
      "\n",
      "Folder  d40dc443 outfall_31_36  created \n",
      "\n",
      "Folder  d40dc443 outfall_31_38  created \n",
      "\n",
      "Folder  d40dc443 outfall_31_42  created \n",
      "\n",
      "nse  -7.31400231419859e+23\n",
      " 75% |██████████████████      | 3/4 Folder  27d930d0  created \n",
      "\n",
      "Folder  27d930d0 outfall_31_26  created \n",
      "\n",
      "Folder  27d930d0 outfall_31_28  created \n",
      "\n",
      "Folder  27d930d0 outfall_31_29  created \n",
      "\n",
      "Folder  27d930d0 outfall_31_35  created \n",
      "\n",
      "Folder  27d930d0 outfall_31_36  created \n",
      "\n",
      "Folder  27d930d0 outfall_31_38  created \n",
      "\n",
      "Folder  27d930d0 outfall_31_42  created \n",
      "\n",
      "nse  -7.31400231419859e+23\n",
      "                                     \r"
     ]
    },
    {
     "ename": "TypeError",
     "evalue": "unsupported operand type(s) for +: 'NoneType' and 'NoneType'",
     "output_type": "error",
     "traceback": [
      "\u001b[1;31m---------------------------------------------------------------------------\u001b[0m",
      "\u001b[1;31mTypeError\u001b[0m                                 Traceback (most recent call last)",
      "\u001b[1;32m<ipython-input-14-9e90f4e964fd>\u001b[0m in \u001b[0;36m<module>\u001b[1;34m\u001b[0m\n\u001b[0;32m      1\u001b[0m \u001b[1;31m# Back to 1 gen\u001b[0m\u001b[1;33m\u001b[0m\u001b[1;33m\u001b[0m\u001b[1;33m\u001b[0m\u001b[0m\n\u001b[1;32m----> 2\u001b[1;33m \u001b[0mhistory\u001b[0m \u001b[1;33m=\u001b[0m \u001b[0mabc\u001b[0m\u001b[1;33m.\u001b[0m\u001b[0mrun\u001b[0m\u001b[1;33m(\u001b[0m\u001b[0mmax_nr_populations\u001b[0m\u001b[1;33m=\u001b[0m\u001b[1;36m1\u001b[0m\u001b[1;33m,\u001b[0m \u001b[0mminimum_epsilon\u001b[0m\u001b[1;33m=\u001b[0m\u001b[1;36m0.2\u001b[0m\u001b[1;33m)\u001b[0m\u001b[1;33m\u001b[0m\u001b[1;33m\u001b[0m\u001b[0m\n\u001b[0m",
      "\u001b[1;32m~\\Anaconda3\\envs\\swmm1\\lib\\site-packages\\pyabc\\inference\\smc.py\u001b[0m in \u001b[0;36mrun\u001b[1;34m(self, minimum_epsilon, max_nr_populations, min_acceptance_rate, max_total_nr_simulations, max_walltime)\u001b[0m\n\u001b[0;32m    686\u001b[0m \u001b[1;33m\u001b[0m\u001b[0m\n\u001b[0;32m    687\u001b[0m             \u001b[1;31m# prepare next iteration\u001b[0m\u001b[1;33m\u001b[0m\u001b[1;33m\u001b[0m\u001b[1;33m\u001b[0m\u001b[0m\n\u001b[1;32m--> 688\u001b[1;33m             self._prepare_next_iteration(\n\u001b[0m\u001b[0;32m    689\u001b[0m                 t+1, sample, population, acceptance_rate)\n\u001b[0;32m    690\u001b[0m \u001b[1;33m\u001b[0m\u001b[0m\n",
      "\u001b[1;32m~\\Anaconda3\\envs\\swmm1\\lib\\site-packages\\pyabc\\inference\\smc.py\u001b[0m in \u001b[0;36m_prepare_next_iteration\u001b[1;34m(self, t, sample, population, acceptance_rate)\u001b[0m\n\u001b[0;32m    739\u001b[0m \u001b[1;33m\u001b[0m\u001b[0m\n\u001b[0;32m    740\u001b[0m         \u001b[1;31m# update transitions\u001b[0m\u001b[1;33m\u001b[0m\u001b[1;33m\u001b[0m\u001b[1;33m\u001b[0m\u001b[0m\n\u001b[1;32m--> 741\u001b[1;33m         \u001b[0mself\u001b[0m\u001b[1;33m.\u001b[0m\u001b[0m_fit_transitions\u001b[0m\u001b[1;33m(\u001b[0m\u001b[0mt\u001b[0m\u001b[1;33m)\u001b[0m\u001b[1;33m\u001b[0m\u001b[1;33m\u001b[0m\u001b[0m\n\u001b[0m\u001b[0;32m    742\u001b[0m \u001b[1;33m\u001b[0m\u001b[0m\n\u001b[0;32m    743\u001b[0m         \u001b[1;31m# update population size\u001b[0m\u001b[1;33m\u001b[0m\u001b[1;33m\u001b[0m\u001b[1;33m\u001b[0m\u001b[0m\n",
      "\u001b[1;32m~\\Anaconda3\\envs\\swmm1\\lib\\site-packages\\pyabc\\inference\\smc.py\u001b[0m in \u001b[0;36m_fit_transitions\u001b[1;34m(self, t)\u001b[0m\n\u001b[0;32m    837\u001b[0m \u001b[1;33m\u001b[0m\u001b[0m\n\u001b[0;32m    838\u001b[0m         \u001b[1;32mfor\u001b[0m \u001b[0mm\u001b[0m \u001b[1;32min\u001b[0m \u001b[0mself\u001b[0m\u001b[1;33m.\u001b[0m\u001b[0mhistory\u001b[0m\u001b[1;33m.\u001b[0m\u001b[0malive_models\u001b[0m\u001b[1;33m(\u001b[0m\u001b[0mt\u001b[0m \u001b[1;33m-\u001b[0m \u001b[1;36m1\u001b[0m\u001b[1;33m)\u001b[0m\u001b[1;33m:\u001b[0m\u001b[1;33m\u001b[0m\u001b[1;33m\u001b[0m\u001b[0m\n\u001b[1;32m--> 839\u001b[1;33m             \u001b[0mparticles\u001b[0m\u001b[1;33m,\u001b[0m \u001b[0mw\u001b[0m \u001b[1;33m=\u001b[0m \u001b[0mself\u001b[0m\u001b[1;33m.\u001b[0m\u001b[0mhistory\u001b[0m\u001b[1;33m.\u001b[0m\u001b[0mget_distribution\u001b[0m\u001b[1;33m(\u001b[0m\u001b[0mm\u001b[0m\u001b[1;33m,\u001b[0m \u001b[0mt\u001b[0m \u001b[1;33m-\u001b[0m \u001b[1;36m1\u001b[0m\u001b[1;33m)\u001b[0m\u001b[1;33m\u001b[0m\u001b[1;33m\u001b[0m\u001b[0m\n\u001b[0m\u001b[0;32m    840\u001b[0m             \u001b[0mself\u001b[0m\u001b[1;33m.\u001b[0m\u001b[0mtransitions\u001b[0m\u001b[1;33m[\u001b[0m\u001b[0mm\u001b[0m\u001b[1;33m]\u001b[0m\u001b[1;33m.\u001b[0m\u001b[0mfit\u001b[0m\u001b[1;33m(\u001b[0m\u001b[0mparticles\u001b[0m\u001b[1;33m,\u001b[0m \u001b[0mw\u001b[0m\u001b[1;33m)\u001b[0m\u001b[1;33m\u001b[0m\u001b[1;33m\u001b[0m\u001b[0m\n\u001b[0;32m    841\u001b[0m \u001b[1;33m\u001b[0m\u001b[0m\n",
      "\u001b[1;32m~\\Anaconda3\\envs\\swmm1\\lib\\site-packages\\pyabc\\storage\\history.py\u001b[0m in \u001b[0;36mf_wrapper\u001b[1;34m(self, *args, **kwargs)\u001b[0m\n\u001b[0;32m     26\u001b[0m         \u001b[1;32mif\u001b[0m \u001b[0mno_session\u001b[0m\u001b[1;33m:\u001b[0m\u001b[1;33m\u001b[0m\u001b[1;33m\u001b[0m\u001b[0m\n\u001b[0;32m     27\u001b[0m             \u001b[0mself\u001b[0m\u001b[1;33m.\u001b[0m\u001b[0m_make_session\u001b[0m\u001b[1;33m(\u001b[0m\u001b[1;33m)\u001b[0m\u001b[1;33m\u001b[0m\u001b[1;33m\u001b[0m\u001b[0m\n\u001b[1;32m---> 28\u001b[1;33m         \u001b[0mres\u001b[0m \u001b[1;33m=\u001b[0m \u001b[0mf\u001b[0m\u001b[1;33m(\u001b[0m\u001b[0mself\u001b[0m\u001b[1;33m,\u001b[0m \u001b[1;33m*\u001b[0m\u001b[0margs\u001b[0m\u001b[1;33m,\u001b[0m \u001b[1;33m**\u001b[0m\u001b[0mkwargs\u001b[0m\u001b[1;33m)\u001b[0m\u001b[1;33m\u001b[0m\u001b[1;33m\u001b[0m\u001b[0m\n\u001b[0m\u001b[0;32m     29\u001b[0m         \u001b[1;32mif\u001b[0m \u001b[0mno_session\u001b[0m\u001b[1;33m:\u001b[0m\u001b[1;33m\u001b[0m\u001b[1;33m\u001b[0m\u001b[0m\n\u001b[0;32m     30\u001b[0m             \u001b[0mself\u001b[0m\u001b[1;33m.\u001b[0m\u001b[0m_close_session\u001b[0m\u001b[1;33m(\u001b[0m\u001b[1;33m)\u001b[0m\u001b[1;33m\u001b[0m\u001b[1;33m\u001b[0m\u001b[0m\n",
      "\u001b[1;32m~\\Anaconda3\\envs\\swmm1\\lib\\site-packages\\pyabc\\storage\\history.py\u001b[0m in \u001b[0;36mget_distribution\u001b[1;34m(self, m, t)\u001b[0m\n\u001b[0;32m    306\u001b[0m         \u001b[0mw\u001b[0m \u001b[1;33m=\u001b[0m \u001b[0mdf\u001b[0m\u001b[1;33m[\u001b[0m\u001b[1;33m[\u001b[0m\u001b[1;34m\"id\"\u001b[0m\u001b[1;33m,\u001b[0m \u001b[1;34m\"w\"\u001b[0m\u001b[1;33m]\u001b[0m\u001b[1;33m]\u001b[0m\u001b[1;33m.\u001b[0m\u001b[0mdrop_duplicates\u001b[0m\u001b[1;33m(\u001b[0m\u001b[1;33m)\u001b[0m\u001b[1;33m.\u001b[0m\u001b[0mset_index\u001b[0m\u001b[1;33m(\u001b[0m\u001b[1;34m\"id\"\u001b[0m\u001b[1;33m)\u001b[0m\u001b[1;33m.\u001b[0m\u001b[0msort_index\u001b[0m\u001b[1;33m(\u001b[0m\u001b[1;33m)\u001b[0m\u001b[1;33m\u001b[0m\u001b[1;33m\u001b[0m\u001b[0m\n\u001b[0;32m    307\u001b[0m         \u001b[0mw_arr\u001b[0m \u001b[1;33m=\u001b[0m \u001b[0mw\u001b[0m\u001b[1;33m.\u001b[0m\u001b[0mw\u001b[0m\u001b[1;33m.\u001b[0m\u001b[0mvalues\u001b[0m\u001b[1;33m\u001b[0m\u001b[1;33m\u001b[0m\u001b[0m\n\u001b[1;32m--> 308\u001b[1;33m         \u001b[1;32mif\u001b[0m \u001b[0mw_arr\u001b[0m\u001b[1;33m.\u001b[0m\u001b[0msize\u001b[0m \u001b[1;33m>\u001b[0m \u001b[1;36m0\u001b[0m \u001b[1;32mand\u001b[0m \u001b[1;32mnot\u001b[0m \u001b[0mnp\u001b[0m\u001b[1;33m.\u001b[0m\u001b[0misclose\u001b[0m\u001b[1;33m(\u001b[0m\u001b[0mw_arr\u001b[0m\u001b[1;33m.\u001b[0m\u001b[0msum\u001b[0m\u001b[1;33m(\u001b[0m\u001b[1;33m)\u001b[0m\u001b[1;33m,\u001b[0m \u001b[1;36m1\u001b[0m\u001b[1;33m)\u001b[0m\u001b[1;33m:\u001b[0m\u001b[1;33m\u001b[0m\u001b[1;33m\u001b[0m\u001b[0m\n\u001b[0m\u001b[0;32m    309\u001b[0m             raise AssertionError(\n\u001b[0;32m    310\u001b[0m                 \"Weight not close to 1, w.sum()={}\".format(w_arr.sum()))\n",
      "\u001b[1;32m~\\Anaconda3\\envs\\swmm1\\lib\\site-packages\\numpy\\core\\_methods.py\u001b[0m in \u001b[0;36m_sum\u001b[1;34m(a, axis, dtype, out, keepdims, initial, where)\u001b[0m\n\u001b[0;32m     45\u001b[0m def _sum(a, axis=None, dtype=None, out=None, keepdims=False,\n\u001b[0;32m     46\u001b[0m          initial=_NoValue, where=True):\n\u001b[1;32m---> 47\u001b[1;33m     \u001b[1;32mreturn\u001b[0m \u001b[0mumr_sum\u001b[0m\u001b[1;33m(\u001b[0m\u001b[0ma\u001b[0m\u001b[1;33m,\u001b[0m \u001b[0maxis\u001b[0m\u001b[1;33m,\u001b[0m \u001b[0mdtype\u001b[0m\u001b[1;33m,\u001b[0m \u001b[0mout\u001b[0m\u001b[1;33m,\u001b[0m \u001b[0mkeepdims\u001b[0m\u001b[1;33m,\u001b[0m \u001b[0minitial\u001b[0m\u001b[1;33m,\u001b[0m \u001b[0mwhere\u001b[0m\u001b[1;33m)\u001b[0m\u001b[1;33m\u001b[0m\u001b[1;33m\u001b[0m\u001b[0m\n\u001b[0m\u001b[0;32m     48\u001b[0m \u001b[1;33m\u001b[0m\u001b[0m\n\u001b[0;32m     49\u001b[0m def _prod(a, axis=None, dtype=None, out=None, keepdims=False,\n",
      "\u001b[1;31mTypeError\u001b[0m: unsupported operand type(s) for +: 'NoneType' and 'NoneType'"
     ]
    }
   ],
   "source": [
    "# Back to 1 gen\n",
    "history = abc.run(max_nr_populations=1, minimum_epsilon=0.2)"
   ]
  }
 ],
 "metadata": {
  "kernelspec": {
   "display_name": "Python 3",
   "language": "python",
   "name": "python3"
  },
  "language_info": {
   "codemirror_mode": {
    "name": "ipython",
    "version": 3
   },
   "file_extension": ".py",
   "mimetype": "text/x-python",
   "name": "python",
   "nbconvert_exporter": "python",
   "pygments_lexer": "ipython3",
   "version": "3.8.3"
  }
 },
 "nbformat": 4,
 "nbformat_minor": 4
}
