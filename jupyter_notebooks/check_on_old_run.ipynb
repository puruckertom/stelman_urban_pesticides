{
 "cells": [
  {
   "cell_type": "code",
   "execution_count": 1,
   "metadata": {},
   "outputs": [
    {
     "name": "stdout",
     "output_type": "stream",
     "text": [
      "To activate debug mode, run 'inp_path = set_inp_path('debug')'.\n",
      "To activate test mode, run 'inp_path = set_inp_path('test')'.\n",
      "To activate run mode, run 'inp_path = set_inp_path('run')'.\n"
     ]
    }
   ],
   "source": [
    "import jn_setup\n",
    "from tools.paths import *"
   ]
  },
  {
   "cell_type": "code",
   "execution_count": 2,
   "metadata": {},
   "outputs": [],
   "source": [
    "import pyabc"
   ]
  },
  {
   "cell_type": "code",
   "execution_count": 3,
   "metadata": {},
   "outputs": [],
   "source": [
    "\n",
    "# retrieve stored run - run ID 1\n",
    "database_dir = os.path.join(temp_path, 'results_db')  \n",
    "db_path = (\"sqlite:///\" +\n",
    "           os.path.join(database_dir, \"ndm_3g_sxs_79ef2cfc.db\"))\n",
    "history = pyabc.History(db_path)\n",
    "history.id = 1"
   ]
  },
  {
   "cell_type": "code",
   "execution_count": 4,
   "metadata": {},
   "outputs": [],
   "source": [
    "df, w = history.get_distribution(m=0, t = history.max_t)"
   ]
  },
  {
   "cell_type": "code",
   "execution_count": 5,
   "metadata": {},
   "outputs": [
    {
     "data": {
      "text/html": [
       "<div>\n",
       "<style scoped>\n",
       "    .dataframe tbody tr th:only-of-type {\n",
       "        vertical-align: middle;\n",
       "    }\n",
       "\n",
       "    .dataframe tbody tr th {\n",
       "        vertical-align: top;\n",
       "    }\n",
       "\n",
       "    .dataframe thead th {\n",
       "        text-align: right;\n",
       "    }\n",
       "</style>\n",
       "<table border=\"1\" class=\"dataframe\">\n",
       "  <thead>\n",
       "    <tr style=\"text-align: right;\">\n",
       "      <th>name</th>\n",
       "      <th>NImperv</th>\n",
       "      <th>kd</th>\n",
       "    </tr>\n",
       "    <tr>\n",
       "      <th>id</th>\n",
       "      <th></th>\n",
       "      <th></th>\n",
       "    </tr>\n",
       "  </thead>\n",
       "  <tbody>\n",
       "    <tr>\n",
       "      <th>10</th>\n",
       "      <td>0.013048</td>\n",
       "      <td>2791.078061</td>\n",
       "    </tr>\n",
       "    <tr>\n",
       "      <th>11</th>\n",
       "      <td>0.010000</td>\n",
       "      <td>2681.951494</td>\n",
       "    </tr>\n",
       "    <tr>\n",
       "      <th>12</th>\n",
       "      <td>0.012912</td>\n",
       "      <td>3326.060794</td>\n",
       "    </tr>\n",
       "    <tr>\n",
       "      <th>13</th>\n",
       "      <td>0.013894</td>\n",
       "      <td>3420.363418</td>\n",
       "    </tr>\n",
       "  </tbody>\n",
       "</table>\n",
       "</div>"
      ],
      "text/plain": [
       "name   NImperv           kd\n",
       "id                         \n",
       "10    0.013048  2791.078061\n",
       "11    0.010000  2681.951494\n",
       "12    0.012912  3326.060794\n",
       "13    0.013894  3420.363418"
      ]
     },
     "execution_count": 5,
     "metadata": {},
     "output_type": "execute_result"
    }
   ],
   "source": [
    "df"
   ]
  },
  {
   "cell_type": "code",
   "execution_count": 6,
   "metadata": {},
   "outputs": [
    {
     "data": {
      "text/plain": [
       "array([0.12195283, 0.13519965, 0.3244742 , 0.41837332])"
      ]
     },
     "execution_count": 6,
     "metadata": {},
     "output_type": "execute_result"
    }
   ],
   "source": [
    "w"
   ]
  },
  {
   "cell_type": "code",
   "execution_count": 7,
   "metadata": {},
   "outputs": [
    {
     "data": {
      "text/plain": [
       "-1    1\n",
       " 0    4\n",
       " 1    4\n",
       " 2    4\n",
       "Name: t, dtype: int64"
      ]
     },
     "execution_count": 7,
     "metadata": {},
     "output_type": "execute_result"
    }
   ],
   "source": [
    "history.get_nr_particles_per_population()"
   ]
  },
  {
   "cell_type": "code",
   "execution_count": 8,
   "metadata": {},
   "outputs": [
    {
     "data": {
      "text/html": [
       "<div>\n",
       "<style scoped>\n",
       "    .dataframe tbody tr th:only-of-type {\n",
       "        vertical-align: middle;\n",
       "    }\n",
       "\n",
       "    .dataframe tbody tr th {\n",
       "        vertical-align: top;\n",
       "    }\n",
       "\n",
       "    .dataframe thead th {\n",
       "        text-align: right;\n",
       "    }\n",
       "</style>\n",
       "<table border=\"1\" class=\"dataframe\">\n",
       "  <thead>\n",
       "    <tr style=\"text-align: right;\">\n",
       "      <th></th>\n",
       "      <th>distance</th>\n",
       "      <th>w</th>\n",
       "      <th>par_NImperv</th>\n",
       "      <th>par_kd</th>\n",
       "      <th>sumstat_2009-02-13_28</th>\n",
       "      <th>sumstat_2009-04-07_28</th>\n",
       "      <th>sumstat_2009-04-13_28</th>\n",
       "    </tr>\n",
       "    <tr>\n",
       "      <th>particle_id</th>\n",
       "      <th></th>\n",
       "      <th></th>\n",
       "      <th></th>\n",
       "      <th></th>\n",
       "      <th></th>\n",
       "      <th></th>\n",
       "      <th></th>\n",
       "    </tr>\n",
       "  </thead>\n",
       "  <tbody>\n",
       "    <tr>\n",
       "      <th>2</th>\n",
       "      <td>2.343468e+22</td>\n",
       "      <td>0.25</td>\n",
       "      <td>0.013965</td>\n",
       "      <td>3787.829480</td>\n",
       "      <td>2896700.0</td>\n",
       "      <td>4.470900e+09</td>\n",
       "      <td>216250000.0</td>\n",
       "    </tr>\n",
       "    <tr>\n",
       "      <th>3</th>\n",
       "      <td>8.366481e+22</td>\n",
       "      <td>0.25</td>\n",
       "      <td>0.022073</td>\n",
       "      <td>3779.613928</td>\n",
       "      <td>8627100.0</td>\n",
       "      <td>8.455600e+09</td>\n",
       "      <td>181220000.0</td>\n",
       "    </tr>\n",
       "    <tr>\n",
       "      <th>4</th>\n",
       "      <td>1.058890e+23</td>\n",
       "      <td>0.25</td>\n",
       "      <td>0.017545</td>\n",
       "      <td>4142.017894</td>\n",
       "      <td>6689700.0</td>\n",
       "      <td>9.513600e+09</td>\n",
       "      <td>149260000.0</td>\n",
       "    </tr>\n",
       "    <tr>\n",
       "      <th>5</th>\n",
       "      <td>8.555066e+22</td>\n",
       "      <td>0.25</td>\n",
       "      <td>0.012712</td>\n",
       "      <td>3022.259287</td>\n",
       "      <td>14755000.0</td>\n",
       "      <td>8.550700e+09</td>\n",
       "      <td>166520000.0</td>\n",
       "    </tr>\n",
       "  </tbody>\n",
       "</table>\n",
       "</div>"
      ],
      "text/plain": [
       "                 distance     w  par_NImperv       par_kd  \\\n",
       "particle_id                                                 \n",
       "2            2.343468e+22  0.25     0.013965  3787.829480   \n",
       "3            8.366481e+22  0.25     0.022073  3779.613928   \n",
       "4            1.058890e+23  0.25     0.017545  4142.017894   \n",
       "5            8.555066e+22  0.25     0.012712  3022.259287   \n",
       "\n",
       "             sumstat_2009-02-13_28  sumstat_2009-04-07_28  \\\n",
       "particle_id                                                 \n",
       "2                        2896700.0           4.470900e+09   \n",
       "3                        8627100.0           8.455600e+09   \n",
       "4                        6689700.0           9.513600e+09   \n",
       "5                       14755000.0           8.550700e+09   \n",
       "\n",
       "             sumstat_2009-04-13_28  \n",
       "particle_id                         \n",
       "2                      216250000.0  \n",
       "3                      181220000.0  \n",
       "4                      149260000.0  \n",
       "5                      166520000.0  "
      ]
     },
     "execution_count": 8,
     "metadata": {},
     "output_type": "execute_result"
    }
   ],
   "source": [
    "history.get_population_extended(t=0)"
   ]
  },
  {
   "cell_type": "code",
   "execution_count": 9,
   "metadata": {},
   "outputs": [
    {
     "data": {
      "text/html": [
       "<div>\n",
       "<style scoped>\n",
       "    .dataframe tbody tr th:only-of-type {\n",
       "        vertical-align: middle;\n",
       "    }\n",
       "\n",
       "    .dataframe tbody tr th {\n",
       "        vertical-align: top;\n",
       "    }\n",
       "\n",
       "    .dataframe thead th {\n",
       "        text-align: right;\n",
       "    }\n",
       "</style>\n",
       "<table border=\"1\" class=\"dataframe\">\n",
       "  <thead>\n",
       "    <tr style=\"text-align: right;\">\n",
       "      <th></th>\n",
       "      <th>distance</th>\n",
       "      <th>w</th>\n",
       "      <th>par_NImperv</th>\n",
       "      <th>par_kd</th>\n",
       "      <th>sumstat_2009-02-13_28</th>\n",
       "      <th>sumstat_2009-04-07_28</th>\n",
       "      <th>sumstat_2009-04-13_28</th>\n",
       "    </tr>\n",
       "    <tr>\n",
       "      <th>particle_id</th>\n",
       "      <th></th>\n",
       "      <th></th>\n",
       "      <th></th>\n",
       "      <th></th>\n",
       "      <th></th>\n",
       "      <th></th>\n",
       "      <th></th>\n",
       "    </tr>\n",
       "  </thead>\n",
       "  <tbody>\n",
       "    <tr>\n",
       "      <th>6</th>\n",
       "      <td>2.254771e+22</td>\n",
       "      <td>0.296043</td>\n",
       "      <td>0.014087</td>\n",
       "      <td>2803.523881</td>\n",
       "      <td>137230</td>\n",
       "      <td>4390600000</td>\n",
       "      <td>5635000</td>\n",
       "    </tr>\n",
       "    <tr>\n",
       "      <th>7</th>\n",
       "      <td>2.441634e+21</td>\n",
       "      <td>0.200185</td>\n",
       "      <td>0.012002</td>\n",
       "      <td>3078.196640</td>\n",
       "      <td>41220</td>\n",
       "      <td>1444800000</td>\n",
       "      <td>7306900</td>\n",
       "    </tr>\n",
       "    <tr>\n",
       "      <th>8</th>\n",
       "      <td>7.746630e+22</td>\n",
       "      <td>0.142139</td>\n",
       "      <td>0.013677</td>\n",
       "      <td>3387.392216</td>\n",
       "      <td>1119100</td>\n",
       "      <td>8138100000</td>\n",
       "      <td>44008000</td>\n",
       "    </tr>\n",
       "    <tr>\n",
       "      <th>9</th>\n",
       "      <td>1.086771e+22</td>\n",
       "      <td>0.361634</td>\n",
       "      <td>0.011834</td>\n",
       "      <td>2712.781561</td>\n",
       "      <td>5029400</td>\n",
       "      <td>3043900000</td>\n",
       "      <td>161590000</td>\n",
       "    </tr>\n",
       "  </tbody>\n",
       "</table>\n",
       "</div>"
      ],
      "text/plain": [
       "                 distance         w  par_NImperv       par_kd  \\\n",
       "particle_id                                                     \n",
       "6            2.254771e+22  0.296043     0.014087  2803.523881   \n",
       "7            2.441634e+21  0.200185     0.012002  3078.196640   \n",
       "8            7.746630e+22  0.142139     0.013677  3387.392216   \n",
       "9            1.086771e+22  0.361634     0.011834  2712.781561   \n",
       "\n",
       "             sumstat_2009-02-13_28  sumstat_2009-04-07_28  \\\n",
       "particle_id                                                 \n",
       "6                           137230             4390600000   \n",
       "7                            41220             1444800000   \n",
       "8                          1119100             8138100000   \n",
       "9                          5029400             3043900000   \n",
       "\n",
       "             sumstat_2009-04-13_28  \n",
       "particle_id                         \n",
       "6                          5635000  \n",
       "7                          7306900  \n",
       "8                         44008000  \n",
       "9                        161590000  "
      ]
     },
     "execution_count": 9,
     "metadata": {},
     "output_type": "execute_result"
    }
   ],
   "source": [
    "history.get_population_extended(t=1)"
   ]
  },
  {
   "cell_type": "code",
   "execution_count": 12,
   "metadata": {},
   "outputs": [
    {
     "data": {
      "text/html": [
       "<div>\n",
       "<style scoped>\n",
       "    .dataframe tbody tr th:only-of-type {\n",
       "        vertical-align: middle;\n",
       "    }\n",
       "\n",
       "    .dataframe tbody tr th {\n",
       "        vertical-align: top;\n",
       "    }\n",
       "\n",
       "    .dataframe thead th {\n",
       "        text-align: right;\n",
       "    }\n",
       "</style>\n",
       "<table border=\"1\" class=\"dataframe\">\n",
       "  <thead>\n",
       "    <tr style=\"text-align: right;\">\n",
       "      <th></th>\n",
       "      <th>distance</th>\n",
       "      <th>w</th>\n",
       "      <th>par_NImperv</th>\n",
       "      <th>par_kd</th>\n",
       "      <th>sumstat_2009-02-13_28</th>\n",
       "      <th>sumstat_2009-04-07_28</th>\n",
       "      <th>sumstat_2009-04-13_28</th>\n",
       "    </tr>\n",
       "    <tr>\n",
       "      <th>particle_id</th>\n",
       "      <th></th>\n",
       "      <th></th>\n",
       "      <th></th>\n",
       "      <th></th>\n",
       "      <th></th>\n",
       "      <th></th>\n",
       "      <th></th>\n",
       "    </tr>\n",
       "  </thead>\n",
       "  <tbody>\n",
       "    <tr>\n",
       "      <th>10</th>\n",
       "      <td>7.233255e+20</td>\n",
       "      <td>0.121953</td>\n",
       "      <td>0.013048</td>\n",
       "      <td>2791.078061</td>\n",
       "      <td>19392.0</td>\n",
       "      <td>7.863900e+08</td>\n",
       "      <td>2313100.0</td>\n",
       "    </tr>\n",
       "    <tr>\n",
       "      <th>11</th>\n",
       "      <td>5.330485e+21</td>\n",
       "      <td>0.135200</td>\n",
       "      <td>0.010000</td>\n",
       "      <td>2681.951494</td>\n",
       "      <td>686540.0</td>\n",
       "      <td>2.134700e+09</td>\n",
       "      <td>20199000.0</td>\n",
       "    </tr>\n",
       "    <tr>\n",
       "      <th>12</th>\n",
       "      <td>1.263470e+22</td>\n",
       "      <td>0.324474</td>\n",
       "      <td>0.012912</td>\n",
       "      <td>3326.060794</td>\n",
       "      <td>316320.0</td>\n",
       "      <td>3.286600e+09</td>\n",
       "      <td>20747000.0</td>\n",
       "    </tr>\n",
       "    <tr>\n",
       "      <th>13</th>\n",
       "      <td>1.034111e+21</td>\n",
       "      <td>0.418373</td>\n",
       "      <td>0.013894</td>\n",
       "      <td>3420.363418</td>\n",
       "      <td>581530.0</td>\n",
       "      <td>9.401600e+08</td>\n",
       "      <td>14911000.0</td>\n",
       "    </tr>\n",
       "  </tbody>\n",
       "</table>\n",
       "</div>"
      ],
      "text/plain": [
       "                 distance         w  par_NImperv       par_kd  \\\n",
       "particle_id                                                     \n",
       "10           7.233255e+20  0.121953     0.013048  2791.078061   \n",
       "11           5.330485e+21  0.135200     0.010000  2681.951494   \n",
       "12           1.263470e+22  0.324474     0.012912  3326.060794   \n",
       "13           1.034111e+21  0.418373     0.013894  3420.363418   \n",
       "\n",
       "             sumstat_2009-02-13_28  sumstat_2009-04-07_28  \\\n",
       "particle_id                                                 \n",
       "10                         19392.0           7.863900e+08   \n",
       "11                        686540.0           2.134700e+09   \n",
       "12                        316320.0           3.286600e+09   \n",
       "13                        581530.0           9.401600e+08   \n",
       "\n",
       "             sumstat_2009-04-13_28  \n",
       "particle_id                         \n",
       "10                       2313100.0  \n",
       "11                      20199000.0  \n",
       "12                      20747000.0  \n",
       "13                      14911000.0  "
      ]
     },
     "execution_count": 12,
     "metadata": {},
     "output_type": "execute_result"
    }
   ],
   "source": [
    "history.get_population_extended(t=2)"
   ]
  },
  {
   "cell_type": "code",
   "execution_count": 10,
   "metadata": {},
   "outputs": [
    {
     "data": {
      "text/plain": [
       "[<ABCSMC(id=1, start_time=2021-02-22 11:51:04.792440, end_time=2021-02-22 12:18:58.622523)>]"
      ]
     },
     "execution_count": 10,
     "metadata": {},
     "output_type": "execute_result"
    }
   ],
   "source": [
    "history.all_runs()"
   ]
  },
  {
   "cell_type": "code",
   "execution_count": 11,
   "metadata": {
    "scrolled": true
   },
   "outputs": [
    {
     "data": {
      "text/html": [
       "<div>\n",
       "<style scoped>\n",
       "    .dataframe tbody tr th:only-of-type {\n",
       "        vertical-align: middle;\n",
       "    }\n",
       "\n",
       "    .dataframe tbody tr th {\n",
       "        vertical-align: top;\n",
       "    }\n",
       "\n",
       "    .dataframe thead th {\n",
       "        text-align: right;\n",
       "    }\n",
       "</style>\n",
       "<table border=\"1\" class=\"dataframe\">\n",
       "  <thead>\n",
       "    <tr style=\"text-align: right;\">\n",
       "      <th></th>\n",
       "      <th>t</th>\n",
       "      <th>population_end_time</th>\n",
       "      <th>samples</th>\n",
       "      <th>epsilon</th>\n",
       "      <th>particles</th>\n",
       "    </tr>\n",
       "  </thead>\n",
       "  <tbody>\n",
       "    <tr>\n",
       "      <th>0</th>\n",
       "      <td>-1</td>\n",
       "      <td>2021-02-22 11:51:05.184991</td>\n",
       "      <td>4</td>\n",
       "      <td>inf</td>\n",
       "      <td>1</td>\n",
       "    </tr>\n",
       "    <tr>\n",
       "      <th>1</th>\n",
       "      <td>0</td>\n",
       "      <td>2021-02-22 12:00:49.034855</td>\n",
       "      <td>12</td>\n",
       "      <td>5.342926e+23</td>\n",
       "      <td>4</td>\n",
       "    </tr>\n",
       "    <tr>\n",
       "      <th>2</th>\n",
       "      <td>1</td>\n",
       "      <td>2021-02-22 12:05:44.680279</td>\n",
       "      <td>6</td>\n",
       "      <td>8.460774e+22</td>\n",
       "      <td>4</td>\n",
       "    </tr>\n",
       "    <tr>\n",
       "      <th>3</th>\n",
       "      <td>2</td>\n",
       "      <td>2021-02-22 12:18:58.385523</td>\n",
       "      <td>29</td>\n",
       "      <td>1.509442e+22</td>\n",
       "      <td>4</td>\n",
       "    </tr>\n",
       "  </tbody>\n",
       "</table>\n",
       "</div>"
      ],
      "text/plain": [
       "   t        population_end_time  samples       epsilon  particles\n",
       "0 -1 2021-02-22 11:51:05.184991        4           inf          1\n",
       "1  0 2021-02-22 12:00:49.034855       12  5.342926e+23          4\n",
       "2  1 2021-02-22 12:05:44.680279        6  8.460774e+22          4\n",
       "3  2 2021-02-22 12:18:58.385523       29  1.509442e+22          4"
      ]
     },
     "execution_count": 11,
     "metadata": {},
     "output_type": "execute_result"
    }
   ],
   "source": [
    "history.get_all_populations()"
   ]
  }
 ],
 "metadata": {
  "kernelspec": {
   "display_name": "Python 3",
   "language": "python",
   "name": "python3"
  },
  "language_info": {
   "codemirror_mode": {
    "name": "ipython",
    "version": 3
   },
   "file_extension": ".py",
   "mimetype": "text/x-python",
   "name": "python",
   "nbconvert_exporter": "python",
   "pygments_lexer": "ipython3",
   "version": "3.8.3"
  }
 },
 "nbformat": 4,
 "nbformat_minor": 4
}
