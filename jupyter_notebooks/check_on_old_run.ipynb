{
 "cells": [
  {
   "cell_type": "code",
   "execution_count": 1,
   "metadata": {},
   "outputs": [
    {
     "name": "stdout",
     "output_type": "stream",
     "text": [
      "To activate debug mode, run 'inp_path = set_inp_path('debug')'.\n",
      "To activate test mode, run 'inp_path = set_inp_path('test')'.\n",
      "To activate run mode, run 'inp_path = set_inp_path('run')'.\n"
     ]
    }
   ],
   "source": [
    "import jn_setup\n",
    "from tools.paths import *"
   ]
  },
  {
   "cell_type": "code",
   "execution_count": 2,
   "metadata": {},
   "outputs": [],
   "source": [
    "import pyabc"
   ]
  },
  {
   "cell_type": "code",
   "execution_count": 3,
   "metadata": {},
   "outputs": [],
   "source": [
    "\n",
    "# retrieve stored run - run ID 1\n",
    "database_dir = os.path.join(temp_path, 'results_db')  \n",
    "db_path = (\"sqlite:///\" +\n",
    "           os.path.join(database_dir, \"test_pyabc_0b5a2f86.db\"))\n",
    "history = pyabc.History(db_path)\n",
    "history.id = 1"
   ]
  },
  {
   "cell_type": "code",
   "execution_count": 4,
   "metadata": {},
   "outputs": [],
   "source": [
    "df, w = history.get_distribution(m=0, t = history.max_t)"
   ]
  },
  {
   "cell_type": "code",
   "execution_count": 5,
   "metadata": {},
   "outputs": [
    {
     "data": {
      "text/html": [
       "<div>\n",
       "<style scoped>\n",
       "    .dataframe tbody tr th:only-of-type {\n",
       "        vertical-align: middle;\n",
       "    }\n",
       "\n",
       "    .dataframe tbody tr th {\n",
       "        vertical-align: top;\n",
       "    }\n",
       "\n",
       "    .dataframe thead th {\n",
       "        text-align: right;\n",
       "    }\n",
       "</style>\n",
       "<table border=\"1\" class=\"dataframe\">\n",
       "  <thead>\n",
       "    <tr style=\"text-align: right;\">\n",
       "      <th>name</th>\n",
       "      <th>NImperv</th>\n",
       "      <th>kd</th>\n",
       "    </tr>\n",
       "    <tr>\n",
       "      <th>id</th>\n",
       "      <th></th>\n",
       "      <th></th>\n",
       "    </tr>\n",
       "  </thead>\n",
       "  <tbody>\n",
       "    <tr>\n",
       "      <th>6</th>\n",
       "      <td>0.020340</td>\n",
       "      <td>2447.159458</td>\n",
       "    </tr>\n",
       "    <tr>\n",
       "      <th>7</th>\n",
       "      <td>0.016391</td>\n",
       "      <td>3577.890271</td>\n",
       "    </tr>\n",
       "    <tr>\n",
       "      <th>8</th>\n",
       "      <td>0.012945</td>\n",
       "      <td>4061.870047</td>\n",
       "    </tr>\n",
       "    <tr>\n",
       "      <th>9</th>\n",
       "      <td>0.012315</td>\n",
       "      <td>2770.991136</td>\n",
       "    </tr>\n",
       "  </tbody>\n",
       "</table>\n",
       "</div>"
      ],
      "text/plain": [
       "name   NImperv           kd\n",
       "id                         \n",
       "6     0.020340  2447.159458\n",
       "7     0.016391  3577.890271\n",
       "8     0.012945  4061.870047\n",
       "9     0.012315  2770.991136"
      ]
     },
     "execution_count": 5,
     "metadata": {},
     "output_type": "execute_result"
    }
   ],
   "source": [
    "df"
   ]
  },
  {
   "cell_type": "code",
   "execution_count": 6,
   "metadata": {},
   "outputs": [
    {
     "data": {
      "text/plain": [
       "array([0.21282351, 0.26348363, 0.30361807, 0.22007479])"
      ]
     },
     "execution_count": 6,
     "metadata": {},
     "output_type": "execute_result"
    }
   ],
   "source": [
    "w"
   ]
  },
  {
   "cell_type": "code",
   "execution_count": 7,
   "metadata": {},
   "outputs": [
    {
     "data": {
      "text/plain": [
       "-1    1\n",
       " 0    4\n",
       " 1    4\n",
       "Name: t, dtype: int64"
      ]
     },
     "execution_count": 7,
     "metadata": {},
     "output_type": "execute_result"
    }
   ],
   "source": [
    "history.get_nr_particles_per_population()"
   ]
  },
  {
   "cell_type": "code",
   "execution_count": 8,
   "metadata": {},
   "outputs": [
    {
     "data": {
      "text/html": [
       "<div>\n",
       "<style scoped>\n",
       "    .dataframe tbody tr th:only-of-type {\n",
       "        vertical-align: middle;\n",
       "    }\n",
       "\n",
       "    .dataframe tbody tr th {\n",
       "        vertical-align: top;\n",
       "    }\n",
       "\n",
       "    .dataframe thead th {\n",
       "        text-align: right;\n",
       "    }\n",
       "</style>\n",
       "<table border=\"1\" class=\"dataframe\">\n",
       "  <thead>\n",
       "    <tr style=\"text-align: right;\">\n",
       "      <th></th>\n",
       "      <th>distance</th>\n",
       "      <th>w</th>\n",
       "      <th>par_NImperv</th>\n",
       "      <th>par_kd</th>\n",
       "      <th>sumstat_2009-02-13_28</th>\n",
       "      <th>sumstat_2009-04-07_28</th>\n",
       "      <th>sumstat_2009-04-13_28</th>\n",
       "    </tr>\n",
       "    <tr>\n",
       "      <th>particle_id</th>\n",
       "      <th></th>\n",
       "      <th></th>\n",
       "      <th></th>\n",
       "      <th></th>\n",
       "      <th></th>\n",
       "      <th></th>\n",
       "      <th></th>\n",
       "    </tr>\n",
       "  </thead>\n",
       "  <tbody>\n",
       "    <tr>\n",
       "      <th>2</th>\n",
       "      <td>1.583121e+24</td>\n",
       "      <td>0.25</td>\n",
       "      <td>0.016074</td>\n",
       "      <td>2680.436649</td>\n",
       "      <td>113650000</td>\n",
       "      <td>36769000000</td>\n",
       "      <td>1238100000</td>\n",
       "    </tr>\n",
       "  </tbody>\n",
       "</table>\n",
       "</div>"
      ],
      "text/plain": [
       "                 distance     w  par_NImperv       par_kd  \\\n",
       "particle_id                                                 \n",
       "2            1.583121e+24  0.25     0.016074  2680.436649   \n",
       "\n",
       "             sumstat_2009-02-13_28  sumstat_2009-04-07_28  \\\n",
       "particle_id                                                 \n",
       "2                        113650000            36769000000   \n",
       "\n",
       "             sumstat_2009-04-13_28  \n",
       "particle_id                         \n",
       "2                       1238100000  "
      ]
     },
     "execution_count": 8,
     "metadata": {},
     "output_type": "execute_result"
    }
   ],
   "source": [
    "history.get_population_extended(t=0)"
   ]
  },
  {
   "cell_type": "code",
   "execution_count": 9,
   "metadata": {},
   "outputs": [
    {
     "data": {
      "text/html": [
       "<div>\n",
       "<style scoped>\n",
       "    .dataframe tbody tr th:only-of-type {\n",
       "        vertical-align: middle;\n",
       "    }\n",
       "\n",
       "    .dataframe tbody tr th {\n",
       "        vertical-align: top;\n",
       "    }\n",
       "\n",
       "    .dataframe thead th {\n",
       "        text-align: right;\n",
       "    }\n",
       "</style>\n",
       "<table border=\"1\" class=\"dataframe\">\n",
       "  <thead>\n",
       "    <tr style=\"text-align: right;\">\n",
       "      <th></th>\n",
       "      <th>distance</th>\n",
       "      <th>w</th>\n",
       "      <th>par_NImperv</th>\n",
       "      <th>par_kd</th>\n",
       "      <th>sumstat_2009-02-13_28</th>\n",
       "      <th>sumstat_2009-04-07_28</th>\n",
       "      <th>sumstat_2009-04-13_28</th>\n",
       "    </tr>\n",
       "    <tr>\n",
       "      <th>particle_id</th>\n",
       "      <th></th>\n",
       "      <th></th>\n",
       "      <th></th>\n",
       "      <th></th>\n",
       "      <th></th>\n",
       "      <th></th>\n",
       "      <th></th>\n",
       "    </tr>\n",
       "  </thead>\n",
       "  <tbody>\n",
       "    <tr>\n",
       "      <th>6</th>\n",
       "      <td>1.583121e+24</td>\n",
       "      <td>0.212824</td>\n",
       "      <td>0.020340</td>\n",
       "      <td>2447.159458</td>\n",
       "      <td>113650000</td>\n",
       "      <td>36769000000</td>\n",
       "      <td>1238100000</td>\n",
       "    </tr>\n",
       "    <tr>\n",
       "      <th>7</th>\n",
       "      <td>1.583121e+24</td>\n",
       "      <td>0.263484</td>\n",
       "      <td>0.016391</td>\n",
       "      <td>3577.890271</td>\n",
       "      <td>113650000</td>\n",
       "      <td>36769000000</td>\n",
       "      <td>1238100000</td>\n",
       "    </tr>\n",
       "    <tr>\n",
       "      <th>8</th>\n",
       "      <td>1.583121e+24</td>\n",
       "      <td>0.303618</td>\n",
       "      <td>0.012945</td>\n",
       "      <td>4061.870047</td>\n",
       "      <td>113650000</td>\n",
       "      <td>36769000000</td>\n",
       "      <td>1238100000</td>\n",
       "    </tr>\n",
       "    <tr>\n",
       "      <th>9</th>\n",
       "      <td>1.583121e+24</td>\n",
       "      <td>0.220075</td>\n",
       "      <td>0.012315</td>\n",
       "      <td>2770.991136</td>\n",
       "      <td>113650000</td>\n",
       "      <td>36769000000</td>\n",
       "      <td>1238100000</td>\n",
       "    </tr>\n",
       "  </tbody>\n",
       "</table>\n",
       "</div>"
      ],
      "text/plain": [
       "                 distance         w  par_NImperv       par_kd  \\\n",
       "particle_id                                                     \n",
       "6            1.583121e+24  0.212824     0.020340  2447.159458   \n",
       "7            1.583121e+24  0.263484     0.016391  3577.890271   \n",
       "8            1.583121e+24  0.303618     0.012945  4061.870047   \n",
       "9            1.583121e+24  0.220075     0.012315  2770.991136   \n",
       "\n",
       "             sumstat_2009-02-13_28  sumstat_2009-04-07_28  \\\n",
       "particle_id                                                 \n",
       "6                        113650000            36769000000   \n",
       "7                        113650000            36769000000   \n",
       "8                        113650000            36769000000   \n",
       "9                        113650000            36769000000   \n",
       "\n",
       "             sumstat_2009-04-13_28  \n",
       "particle_id                         \n",
       "6                       1238100000  \n",
       "7                       1238100000  \n",
       "8                       1238100000  \n",
       "9                       1238100000  "
      ]
     },
     "execution_count": 9,
     "metadata": {},
     "output_type": "execute_result"
    }
   ],
   "source": [
    "history.get_population_extended(t=1)"
   ]
  },
  {
   "cell_type": "code",
   "execution_count": 10,
   "metadata": {},
   "outputs": [
    {
     "data": {
      "text/html": [
       "<div>\n",
       "<style scoped>\n",
       "    .dataframe tbody tr th:only-of-type {\n",
       "        vertical-align: middle;\n",
       "    }\n",
       "\n",
       "    .dataframe tbody tr th {\n",
       "        vertical-align: top;\n",
       "    }\n",
       "\n",
       "    .dataframe thead th {\n",
       "        text-align: right;\n",
       "    }\n",
       "</style>\n",
       "<table border=\"1\" class=\"dataframe\">\n",
       "  <thead>\n",
       "    <tr style=\"text-align: right;\">\n",
       "      <th></th>\n",
       "      <th>epsilon</th>\n",
       "      <th>samples</th>\n",
       "      <th>m</th>\n",
       "      <th>model_name</th>\n",
       "      <th>p_model</th>\n",
       "      <th>w</th>\n",
       "      <th>particle_id</th>\n",
       "      <th>distance</th>\n",
       "      <th>par_name</th>\n",
       "      <th>par_val</th>\n",
       "      <th>sumstat_name</th>\n",
       "      <th>sumstat_val</th>\n",
       "    </tr>\n",
       "  </thead>\n",
       "  <tbody>\n",
       "  </tbody>\n",
       "</table>\n",
       "</div>"
      ],
      "text/plain": [
       "Empty DataFrame\n",
       "Columns: [epsilon, samples, m, model_name, p_model, w, particle_id, distance, par_name, par_val, sumstat_name, sumstat_val]\n",
       "Index: []"
      ]
     },
     "execution_count": 10,
     "metadata": {},
     "output_type": "execute_result"
    }
   ],
   "source": [
    "history.get_population_extended(t=2)"
   ]
  },
  {
   "cell_type": "code",
   "execution_count": 11,
   "metadata": {},
   "outputs": [
    {
     "data": {
      "text/plain": [
       "[<ABCSMC(id=1, start_time=2021-02-23 16:51:57.819715, end_time=2021-02-23 16:59:29.188776)>]"
      ]
     },
     "execution_count": 11,
     "metadata": {},
     "output_type": "execute_result"
    }
   ],
   "source": [
    "history.all_runs()"
   ]
  },
  {
   "cell_type": "code",
   "execution_count": 12,
   "metadata": {
    "scrolled": true
   },
   "outputs": [
    {
     "data": {
      "text/html": [
       "<div>\n",
       "<style scoped>\n",
       "    .dataframe tbody tr th:only-of-type {\n",
       "        vertical-align: middle;\n",
       "    }\n",
       "\n",
       "    .dataframe tbody tr th {\n",
       "        vertical-align: top;\n",
       "    }\n",
       "\n",
       "    .dataframe thead th {\n",
       "        text-align: right;\n",
       "    }\n",
       "</style>\n",
       "<table border=\"1\" class=\"dataframe\">\n",
       "  <thead>\n",
       "    <tr style=\"text-align: right;\">\n",
       "      <th></th>\n",
       "      <th>t</th>\n",
       "      <th>population_end_time</th>\n",
       "      <th>samples</th>\n",
       "      <th>epsilon</th>\n",
       "      <th>particles</th>\n",
       "    </tr>\n",
       "  </thead>\n",
       "  <tbody>\n",
       "    <tr>\n",
       "      <th>0</th>\n",
       "      <td>-1</td>\n",
       "      <td>2021-02-23 16:51:58.208050</td>\n",
       "      <td>4</td>\n",
       "      <td>inf</td>\n",
       "      <td>1</td>\n",
       "    </tr>\n",
       "    <tr>\n",
       "      <th>1</th>\n",
       "      <td>0</td>\n",
       "      <td>2021-02-23 16:56:59.644528</td>\n",
       "      <td>4</td>\n",
       "      <td>1.583121e+24</td>\n",
       "      <td>4</td>\n",
       "    </tr>\n",
       "    <tr>\n",
       "      <th>2</th>\n",
       "      <td>1</td>\n",
       "      <td>2021-02-23 16:59:29.119326</td>\n",
       "      <td>4</td>\n",
       "      <td>1.583121e+24</td>\n",
       "      <td>4</td>\n",
       "    </tr>\n",
       "  </tbody>\n",
       "</table>\n",
       "</div>"
      ],
      "text/plain": [
       "   t        population_end_time  samples       epsilon  particles\n",
       "0 -1 2021-02-23 16:51:58.208050        4           inf          1\n",
       "1  0 2021-02-23 16:56:59.644528        4  1.583121e+24          4\n",
       "2  1 2021-02-23 16:59:29.119326        4  1.583121e+24          4"
      ]
     },
     "execution_count": 12,
     "metadata": {},
     "output_type": "execute_result"
    }
   ],
   "source": [
    "history.get_all_populations()"
   ]
  }
 ],
 "metadata": {
  "kernelspec": {
   "display_name": "Python 3",
   "language": "python",
   "name": "python3"
  },
  "language_info": {
   "codemirror_mode": {
    "name": "ipython",
    "version": 3
   },
   "file_extension": ".py",
   "mimetype": "text/x-python",
   "name": "python",
   "nbconvert_exporter": "python",
   "pygments_lexer": "ipython3",
   "version": "3.8.3"
  }
 },
 "nbformat": 4,
 "nbformat_minor": 4
}
