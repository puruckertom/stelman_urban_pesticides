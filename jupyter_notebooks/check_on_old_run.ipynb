{
 "cells": [
  {
   "cell_type": "code",
   "execution_count": 1,
   "metadata": {},
   "outputs": [
    {
     "name": "stdout",
     "output_type": "stream",
     "text": [
      "To activate debug mode, run 'inp_path = set_inp_path('debug')'.\n",
      "To activate test mode, run 'inp_path = set_inp_path('test')'.\n",
      "To activate run mode, run 'inp_path = set_inp_path('run')'.\n"
     ]
    }
   ],
   "source": [
    "import jn_setup\n",
    "from tools.paths import *"
   ]
  },
  {
   "cell_type": "code",
   "execution_count": 2,
   "metadata": {},
   "outputs": [],
   "source": [
    "import pyabc"
   ]
  },
  {
   "cell_type": "code",
   "execution_count": 3,
   "metadata": {},
   "outputs": [],
   "source": [
    "\n",
    "# retrieve stored run - run ID 1\n",
    "database_dir = os.path.join(temp_path, 'results_db')  \n",
    "db_path = (\"sqlite:///\" +\n",
    "           os.path.join(database_dir, \"ndm_2g_sxs_8aca247e.db\"))\n",
    "history = pyabc.History(db_path)\n",
    "history.id = 1"
   ]
  },
  {
   "cell_type": "code",
   "execution_count": 4,
   "metadata": {},
   "outputs": [],
   "source": [
    "df, w = history.get_distribution(m=0, t = history.max_t)"
   ]
  },
  {
   "cell_type": "code",
   "execution_count": 5,
   "metadata": {},
   "outputs": [
    {
     "data": {
      "text/html": [
       "<div>\n",
       "<style scoped>\n",
       "    .dataframe tbody tr th:only-of-type {\n",
       "        vertical-align: middle;\n",
       "    }\n",
       "\n",
       "    .dataframe tbody tr th {\n",
       "        vertical-align: top;\n",
       "    }\n",
       "\n",
       "    .dataframe thead th {\n",
       "        text-align: right;\n",
       "    }\n",
       "</style>\n",
       "<table border=\"1\" class=\"dataframe\">\n",
       "  <thead>\n",
       "    <tr style=\"text-align: right;\">\n",
       "      <th>name</th>\n",
       "      <th>NImperv</th>\n",
       "      <th>kd</th>\n",
       "    </tr>\n",
       "    <tr>\n",
       "      <th>id</th>\n",
       "      <th></th>\n",
       "      <th></th>\n",
       "    </tr>\n",
       "  </thead>\n",
       "  <tbody>\n",
       "    <tr>\n",
       "      <th>6</th>\n",
       "      <td>0.014884</td>\n",
       "      <td>4691.020685</td>\n",
       "    </tr>\n",
       "    <tr>\n",
       "      <th>7</th>\n",
       "      <td>0.022251</td>\n",
       "      <td>3105.995203</td>\n",
       "    </tr>\n",
       "    <tr>\n",
       "      <th>8</th>\n",
       "      <td>0.020706</td>\n",
       "      <td>4261.422297</td>\n",
       "    </tr>\n",
       "    <tr>\n",
       "      <th>9</th>\n",
       "      <td>0.020809</td>\n",
       "      <td>4196.894801</td>\n",
       "    </tr>\n",
       "  </tbody>\n",
       "</table>\n",
       "</div>"
      ],
      "text/plain": [
       "name   NImperv           kd\n",
       "id                         \n",
       "6     0.014884  4691.020685\n",
       "7     0.022251  3105.995203\n",
       "8     0.020706  4261.422297\n",
       "9     0.020809  4196.894801"
      ]
     },
     "execution_count": 5,
     "metadata": {},
     "output_type": "execute_result"
    }
   ],
   "source": [
    "df"
   ]
  },
  {
   "cell_type": "code",
   "execution_count": 6,
   "metadata": {},
   "outputs": [
    {
     "data": {
      "text/plain": [
       "array([0.30352392, 0.22033083, 0.24161676, 0.23452849])"
      ]
     },
     "execution_count": 6,
     "metadata": {},
     "output_type": "execute_result"
    }
   ],
   "source": [
    "w"
   ]
  },
  {
   "cell_type": "code",
   "execution_count": 7,
   "metadata": {},
   "outputs": [
    {
     "data": {
      "text/plain": [
       "-1    1\n",
       " 0    4\n",
       " 1    4\n",
       "Name: t, dtype: int64"
      ]
     },
     "execution_count": 7,
     "metadata": {},
     "output_type": "execute_result"
    }
   ],
   "source": [
    "history.get_nr_particles_per_population()"
   ]
  },
  {
   "cell_type": "code",
   "execution_count": 8,
   "metadata": {},
   "outputs": [
    {
     "data": {
      "text/html": [
       "<div>\n",
       "<style scoped>\n",
       "    .dataframe tbody tr th:only-of-type {\n",
       "        vertical-align: middle;\n",
       "    }\n",
       "\n",
       "    .dataframe tbody tr th {\n",
       "        vertical-align: top;\n",
       "    }\n",
       "\n",
       "    .dataframe thead th {\n",
       "        text-align: right;\n",
       "    }\n",
       "</style>\n",
       "<table border=\"1\" class=\"dataframe\">\n",
       "  <thead>\n",
       "    <tr style=\"text-align: right;\">\n",
       "      <th></th>\n",
       "      <th>distance</th>\n",
       "      <th>w</th>\n",
       "      <th>par_NImperv</th>\n",
       "      <th>par_kd</th>\n",
       "      <th>sumstat_2009-02-13_28</th>\n",
       "      <th>sumstat_2009-04-07_28</th>\n",
       "      <th>sumstat_2009-04-13_28</th>\n",
       "    </tr>\n",
       "    <tr>\n",
       "      <th>particle_id</th>\n",
       "      <th></th>\n",
       "      <th></th>\n",
       "      <th></th>\n",
       "      <th></th>\n",
       "      <th></th>\n",
       "      <th></th>\n",
       "      <th></th>\n",
       "    </tr>\n",
       "  </thead>\n",
       "  <tbody>\n",
       "    <tr>\n",
       "      <th>2</th>\n",
       "      <td>4.875580e+22</td>\n",
       "      <td>0.25</td>\n",
       "      <td>0.018648</td>\n",
       "      <td>3700.886567</td>\n",
       "      <td>10155000</td>\n",
       "      <td>6455100000</td>\n",
       "      <td>125910000</td>\n",
       "    </tr>\n",
       "    <tr>\n",
       "      <th>3</th>\n",
       "      <td>4.719356e+21</td>\n",
       "      <td>0.25</td>\n",
       "      <td>0.012514</td>\n",
       "      <td>3740.632157</td>\n",
       "      <td>7527300</td>\n",
       "      <td>2004600000</td>\n",
       "      <td>128000000</td>\n",
       "    </tr>\n",
       "    <tr>\n",
       "      <th>4</th>\n",
       "      <td>1.321246e+22</td>\n",
       "      <td>0.25</td>\n",
       "      <td>0.024907</td>\n",
       "      <td>3029.707153</td>\n",
       "      <td>1449800</td>\n",
       "      <td>3356300000</td>\n",
       "      <td>177130000</td>\n",
       "    </tr>\n",
       "    <tr>\n",
       "      <th>5</th>\n",
       "      <td>7.725537e+22</td>\n",
       "      <td>0.25</td>\n",
       "      <td>0.011843</td>\n",
       "      <td>5795.620291</td>\n",
       "      <td>2241400</td>\n",
       "      <td>8127000000</td>\n",
       "      <td>46252000</td>\n",
       "    </tr>\n",
       "  </tbody>\n",
       "</table>\n",
       "</div>"
      ],
      "text/plain": [
       "                 distance     w  par_NImperv       par_kd  \\\n",
       "particle_id                                                 \n",
       "2            4.875580e+22  0.25     0.018648  3700.886567   \n",
       "3            4.719356e+21  0.25     0.012514  3740.632157   \n",
       "4            1.321246e+22  0.25     0.024907  3029.707153   \n",
       "5            7.725537e+22  0.25     0.011843  5795.620291   \n",
       "\n",
       "             sumstat_2009-02-13_28  sumstat_2009-04-07_28  \\\n",
       "particle_id                                                 \n",
       "2                         10155000             6455100000   \n",
       "3                          7527300             2004600000   \n",
       "4                          1449800             3356300000   \n",
       "5                          2241400             8127000000   \n",
       "\n",
       "             sumstat_2009-04-13_28  \n",
       "particle_id                         \n",
       "2                        125910000  \n",
       "3                        128000000  \n",
       "4                        177130000  \n",
       "5                         46252000  "
      ]
     },
     "execution_count": 8,
     "metadata": {},
     "output_type": "execute_result"
    }
   ],
   "source": [
    "history.get_population_extended(t=0)"
   ]
  },
  {
   "cell_type": "code",
   "execution_count": 13,
   "metadata": {},
   "outputs": [
    {
     "data": {
      "text/html": [
       "<div>\n",
       "<style scoped>\n",
       "    .dataframe tbody tr th:only-of-type {\n",
       "        vertical-align: middle;\n",
       "    }\n",
       "\n",
       "    .dataframe tbody tr th {\n",
       "        vertical-align: top;\n",
       "    }\n",
       "\n",
       "    .dataframe thead th {\n",
       "        text-align: right;\n",
       "    }\n",
       "</style>\n",
       "<table border=\"1\" class=\"dataframe\">\n",
       "  <thead>\n",
       "    <tr style=\"text-align: right;\">\n",
       "      <th></th>\n",
       "      <th>distance</th>\n",
       "      <th>w</th>\n",
       "      <th>par_NImperv</th>\n",
       "      <th>par_kd</th>\n",
       "      <th>sumstat_2009-02-13_28</th>\n",
       "      <th>sumstat_2009-04-07_28</th>\n",
       "      <th>sumstat_2009-04-13_28</th>\n",
       "    </tr>\n",
       "    <tr>\n",
       "      <th>particle_id</th>\n",
       "      <th></th>\n",
       "      <th></th>\n",
       "      <th></th>\n",
       "      <th></th>\n",
       "      <th></th>\n",
       "      <th></th>\n",
       "      <th></th>\n",
       "    </tr>\n",
       "  </thead>\n",
       "  <tbody>\n",
       "    <tr>\n",
       "      <th>6</th>\n",
       "      <td>4.740591e+21</td>\n",
       "      <td>0.303524</td>\n",
       "      <td>0.014884</td>\n",
       "      <td>4691.020685</td>\n",
       "      <td>685520</td>\n",
       "      <td>2013100000</td>\n",
       "      <td>21088000</td>\n",
       "    </tr>\n",
       "    <tr>\n",
       "      <th>7</th>\n",
       "      <td>9.782566e+21</td>\n",
       "      <td>0.220331</td>\n",
       "      <td>0.022251</td>\n",
       "      <td>3105.995203</td>\n",
       "      <td>64973</td>\n",
       "      <td>2892000000</td>\n",
       "      <td>6437900</td>\n",
       "    </tr>\n",
       "    <tr>\n",
       "      <th>8</th>\n",
       "      <td>2.668207e+17</td>\n",
       "      <td>0.241617</td>\n",
       "      <td>0.020706</td>\n",
       "      <td>4261.422297</td>\n",
       "      <td>35461</td>\n",
       "      <td>14672000</td>\n",
       "      <td>3585000</td>\n",
       "    </tr>\n",
       "    <tr>\n",
       "      <th>9</th>\n",
       "      <td>1.758244e+22</td>\n",
       "      <td>0.234528</td>\n",
       "      <td>0.020809</td>\n",
       "      <td>4196.894801</td>\n",
       "      <td>253040</td>\n",
       "      <td>3877100000</td>\n",
       "      <td>19600000</td>\n",
       "    </tr>\n",
       "  </tbody>\n",
       "</table>\n",
       "</div>"
      ],
      "text/plain": [
       "                 distance         w  par_NImperv       par_kd  \\\n",
       "particle_id                                                     \n",
       "6            4.740591e+21  0.303524     0.014884  4691.020685   \n",
       "7            9.782566e+21  0.220331     0.022251  3105.995203   \n",
       "8            2.668207e+17  0.241617     0.020706  4261.422297   \n",
       "9            1.758244e+22  0.234528     0.020809  4196.894801   \n",
       "\n",
       "             sumstat_2009-02-13_28  sumstat_2009-04-07_28  \\\n",
       "particle_id                                                 \n",
       "6                           685520             2013100000   \n",
       "7                            64973             2892000000   \n",
       "8                            35461               14672000   \n",
       "9                           253040             3877100000   \n",
       "\n",
       "             sumstat_2009-04-13_28  \n",
       "particle_id                         \n",
       "6                         21088000  \n",
       "7                          6437900  \n",
       "8                          3585000  \n",
       "9                         19600000  "
      ]
     },
     "execution_count": 13,
     "metadata": {},
     "output_type": "execute_result"
    }
   ],
   "source": [
    "history.get_population_extended(t=1)"
   ]
  },
  {
   "cell_type": "code",
   "execution_count": 11,
   "metadata": {},
   "outputs": [
    {
     "data": {
      "text/plain": [
       "[<ABCSMC(id=1, start_time=2021-02-22 10:46:05.537389, end_time=2021-02-22 11:08:37.751978)>]"
      ]
     },
     "execution_count": 11,
     "metadata": {},
     "output_type": "execute_result"
    }
   ],
   "source": [
    "history.all_runs()"
   ]
  },
  {
   "cell_type": "code",
   "execution_count": 12,
   "metadata": {},
   "outputs": [
    {
     "data": {
      "text/html": [
       "<div>\n",
       "<style scoped>\n",
       "    .dataframe tbody tr th:only-of-type {\n",
       "        vertical-align: middle;\n",
       "    }\n",
       "\n",
       "    .dataframe tbody tr th {\n",
       "        vertical-align: top;\n",
       "    }\n",
       "\n",
       "    .dataframe thead th {\n",
       "        text-align: right;\n",
       "    }\n",
       "</style>\n",
       "<table border=\"1\" class=\"dataframe\">\n",
       "  <thead>\n",
       "    <tr style=\"text-align: right;\">\n",
       "      <th></th>\n",
       "      <th>t</th>\n",
       "      <th>population_end_time</th>\n",
       "      <th>samples</th>\n",
       "      <th>epsilon</th>\n",
       "      <th>particles</th>\n",
       "    </tr>\n",
       "  </thead>\n",
       "  <tbody>\n",
       "    <tr>\n",
       "      <th>0</th>\n",
       "      <td>-1</td>\n",
       "      <td>2021-02-22 10:46:06.212149</td>\n",
       "      <td>4</td>\n",
       "      <td>inf</td>\n",
       "      <td>1</td>\n",
       "    </tr>\n",
       "    <tr>\n",
       "      <th>1</th>\n",
       "      <td>0</td>\n",
       "      <td>2021-02-22 10:55:49.890782</td>\n",
       "      <td>10</td>\n",
       "      <td>1.952799e+23</td>\n",
       "      <td>4</td>\n",
       "    </tr>\n",
       "    <tr>\n",
       "      <th>2</th>\n",
       "      <td>1</td>\n",
       "      <td>2021-02-22 11:08:37.306868</td>\n",
       "      <td>30</td>\n",
       "      <td>3.098413e+22</td>\n",
       "      <td>4</td>\n",
       "    </tr>\n",
       "  </tbody>\n",
       "</table>\n",
       "</div>"
      ],
      "text/plain": [
       "   t        population_end_time  samples       epsilon  particles\n",
       "0 -1 2021-02-22 10:46:06.212149        4           inf          1\n",
       "1  0 2021-02-22 10:55:49.890782       10  1.952799e+23          4\n",
       "2  1 2021-02-22 11:08:37.306868       30  3.098413e+22          4"
      ]
     },
     "execution_count": 12,
     "metadata": {},
     "output_type": "execute_result"
    }
   ],
   "source": [
    "history.get_all_populations()"
   ]
  }
 ],
 "metadata": {
  "kernelspec": {
   "display_name": "Python 3",
   "language": "python",
   "name": "python3"
  },
  "language_info": {
   "codemirror_mode": {
    "name": "ipython",
    "version": 3
   },
   "file_extension": ".py",
   "mimetype": "text/x-python",
   "name": "python",
   "nbconvert_exporter": "python",
   "pygments_lexer": "ipython3",
   "version": "3.8.3"
  }
 },
 "nbformat": 4,
 "nbformat_minor": 4
}
